{
 "cells": [
  {
   "attachments": {},
   "cell_type": "markdown",
   "metadata": {},
   "source": [
    "# **<font size=7>Lab 4 Report (Group 29)</font>**\n",
    "\n",
    "<u>รายชื่อสมาชิกในกลุ่ม:</u>\n",
    "- นายธนัช ธรนิศตระกูล 63340500025\n",
    "- นายสิรวิชญ์ ลั้วสมบูรณ์ 63340500066\n",
    "\n",
    "<hr>\n",
    "\n",
    "จาก Overall Architecture\n",
    "[Overall Architecture](!)"
   ]
  }
 ],
 "metadata": {
  "kernelspec": {
   "display_name": "Python 3",
   "language": "python",
   "name": "python3"
  },
  "language_info": {
   "name": "python",
   "version": "3.8.10 (default, Jun 22 2022, 20:18:18) \n[GCC 9.4.0]"
  },
  "orig_nbformat": 4,
  "vscode": {
   "interpreter": {
    "hash": "916dbcbb3f70747c44a77c7bcd40155683ae19c65e1c03b4aa3499c5328201f1"
   }
  }
 },
 "nbformat": 4,
 "nbformat_minor": 2
}
