{
 "cells": [
  {
   "cell_type": "code",
   "execution_count": 1,
   "metadata": {},
   "outputs": [],
   "source": [
    "import numpy as np\n",
    "import yaml\n",
    "import os\n",
    "import sympy as sp"
   ]
  },
  {
   "cell_type": "code",
   "execution_count": 2,
   "metadata": {},
   "outputs": [],
   "source": [
    "def QuinticTrajGen(t0, tf, q, v):\n",
    "    quinticTrajMat = np.array([[1, t0, t0**2, t0**3, t0**4, t0**5],\n",
    "                                [0, 1, 2*t0, 3*t0**2, 4*t0**3, 5*t0**4],\n",
    "                                [0, 0, 2, 6*t0, 12*t0**2, 20*t0**3],\n",
    "                                [1, tf, tf**2, tf**3, tf**4, tf**5],\n",
    "                                [0, 1, 2*tf, 3*tf**2, 4*tf**3, 5*tf**4],\n",
    "                                [0, 0, 2, 6*tf, 12*tf**2, 20*tf**3]])\n",
    "    inputParam = np.array([[q[0]],\n",
    "                            [v[0]],\n",
    "                            [0],\n",
    "                            [q[1]],\n",
    "                            [v[1]],\n",
    "                            [0]])\n",
    "    outputParam = np.linalg.inv(quinticTrajMat) @ inputParam\n",
    "    return outputParam\n",
    "\n",
    "def QuinticEval(t, param):\n",
    "    a_t = param[0] + param[1]*t + param[2]*t**2 + param[3]*t**3 + param[4]*t**4 + param[5]*t**5\n",
    "    adot_t = param[1] + 2*param[2]*t + 3*param[3]*t**2 + 4*param[4]*t**3 + 5*param[5]*t**4\n",
    "    return float(a_t), float(adot_t)\n"
   ]
  },
  {
   "cell_type": "code",
   "execution_count": 3,
   "metadata": {},
   "outputs": [
    {
     "data": {
      "text/plain": [
       "array([[  0.],\n",
       "       [  0.],\n",
       "       [  0.],\n",
       "       [ 10.],\n",
       "       [-15.],\n",
       "       [  6.]])"
      ]
     },
     "execution_count": 3,
     "metadata": {},
     "output_type": "execute_result"
    }
   ],
   "source": [
    "test1 = QuinticTrajGen(0, 1, [0, 1], [0, 0])\n",
    "test1"
   ]
  },
  {
   "cell_type": "code",
   "execution_count": 5,
   "metadata": {},
   "outputs": [
    {
     "name": "stdout",
     "output_type": "stream",
     "text": [
      "0.0 0.0\n",
      "0.008559999999999988 0.24299999999999963\n",
      "0.05791999999999992 0.7679999999999988\n",
      "0.1630799999999998 1.322999999999998\n",
      "0.3174399999999996 1.7279999999999975\n",
      "0.49999999999999933 1.8749999999999976\n",
      "0.6825599999999992 1.727999999999997\n",
      "0.8369199999999992 1.3229999999999977\n",
      "0.9420799999999996 0.7679999999999989\n",
      "0.9914400000000012 0.242999999999995\n",
      "1.0 3.552713678800501e-15\n",
      "next\n",
      "1.0 0.0\n",
      "1.00856 0.24299999999999963\n",
      "1.0579199999999997 0.7679999999999988\n",
      "1.1630799999999997 1.322999999999998\n",
      "1.3174399999999997 1.7279999999999975\n",
      "1.4999999999999996 1.8749999999999976\n",
      "1.6825599999999992 1.727999999999997\n",
      "1.8369199999999992 1.3229999999999977\n",
      "1.9420799999999996 0.7679999999999989\n",
      "1.9914400000000003 0.242999999999995\n",
      "2.0 3.552713678800501e-15\n"
     ]
    }
   ],
   "source": [
    "for time in np.arange(0, 1.1, 0.1):\n",
    "    print(QuinticEval(time, test1)[0], QuinticEval(time, test1)[1])\n",
    "\n",
    "print(\"next\")\n",
    "\n",
    "for time in np.arange(0, 1.1, 0.1):\n",
    "    test2 = QuinticTrajGen(0, 1, [1, 2], [0, 0])\n",
    "    print(QuinticEval(time, test2)[0], QuinticEval(time, test2)[1])"
   ]
  },
  {
   "cell_type": "code",
   "execution_count": 29,
   "metadata": {},
   "outputs": [
    {
     "name": "stdout",
     "output_type": "stream",
     "text": [
      "/home/omzlette/gitROS/FRA333_LAB_HW/LAB4/src/doc/../../install\n",
      "True\n",
      "True\n"
     ]
    }
   ],
   "source": [
    "\n",
    "\n",
    "print(os.path.join(os.path.abspath(''), '../'*2, 'install'))\n",
    "print(os.path.exists(os.path.join('/home/omzlette/gitROS/FRA333_LAB_HW/LAB4/install/doppelt_control/share/doppelt_control/scripts', '../'*5, 'src', 'lab4_29', 'doppelt_control', 'config')))\n",
    "print(os.path.exists('../../install/'))"
   ]
  },
  {
   "cell_type": "code",
   "execution_count": 31,
   "metadata": {},
   "outputs": [],
   "source": [
    "\n",
    "\n",
    "config = {'Kp': 1, 'Ki': 2}\n",
    "with open('../lab4_29/doppelt_control/config/tracker_config.yaml', 'w') as f:\n",
    "    yaml.dump(config, f)"
   ]
  },
  {
   "cell_type": "code",
   "execution_count": 4,
   "metadata": {},
   "outputs": [
    {
     "name": "stdout",
     "output_type": "stream",
     "text": [
      "{'Kp': [20, 20, 20], 'Ki': [0, 0, 0]}\n"
     ]
    }
   ],
   "source": [
    "with open('../lab4_29/doppelt_control/config/tracker_config.yaml', 'r') as f:\n",
    "    config1 = yaml.load(f, Loader=yaml.FullLoader)\n",
    "    print(config1)"
   ]
  },
  {
   "cell_type": "code",
   "execution_count": 3,
   "metadata": {},
   "outputs": [],
   "source": [
    "via_points = [{'coords': [0, 0, 0], 'marker': False},\n",
    "              {'coords': [0, 0, 0], 'marker': False},\n",
    "              {'coords': [0, 0, 0], 'marker': False},\n",
    "              {'coords': [0, 0, 0], 'marker': False},\n",
    "              {'coords': [0, 0, 0], 'marker': False},\n",
    "              {'coords': [0, 0, 0], 'marker': False},\n",
    "              {'coords': [0, 0, 0], 'marker': False},\n",
    "              {'coords': [0, 0, 0], 'marker': False},\n",
    "              {'coords': [0, 0, 0], 'marker': False}]\n",
    "\n",
    "with open('../lab4_29/doppelt_control/config/via_points.yaml', 'w') as f:\n",
    "    yaml.dump(via_points, f)"
   ]
  },
  {
   "cell_type": "code",
   "execution_count": 4,
   "metadata": {},
   "outputs": [
    {
     "data": {
      "text/plain": [
       "9"
      ]
     },
     "execution_count": 4,
     "metadata": {},
     "output_type": "execute_result"
    }
   ],
   "source": [
    "len(via_points)"
   ]
  },
  {
   "cell_type": "code",
   "execution_count": 4,
   "metadata": {},
   "outputs": [
    {
     "data": {
      "text/plain": [
       "[{'coords': [0, 0, 0], 'marker': False},\n",
       " {'coords': [0, 0, 0], 'marker': False},\n",
       " {'coords': [0, 0, 0], 'marker': False},\n",
       " {'coords': [0, 0, 0], 'marker': False},\n",
       " {'coords': [0, 0, 0], 'marker': False},\n",
       " {'coords': [0, 0, 0], 'marker': False},\n",
       " {'coords': [0, 0, 0], 'marker': False},\n",
       " {'coords': [0, 0, 0], 'marker': False},\n",
       " {'coords': [0, 0, 0], 'marker': False}]"
      ]
     },
     "execution_count": 4,
     "metadata": {},
     "output_type": "execute_result"
    }
   ],
   "source": [
    "via_points"
   ]
  },
  {
   "cell_type": "code",
   "execution_count": 5,
   "metadata": {},
   "outputs": [
    {
     "data": {
      "text/plain": [
       "[0, 0, 0]"
      ]
     },
     "execution_count": 5,
     "metadata": {},
     "output_type": "execute_result"
    }
   ],
   "source": [
    "with open('../lab4_29/doppelt_control/config/via_points.yaml', 'r') as f:\n",
    "    via_points = yaml.load(f, Loader=yaml.FullLoader)\n",
    "via_points[0]['coords']"
   ]
  },
  {
   "cell_type": "code",
   "execution_count": 6,
   "metadata": {},
   "outputs": [
    {
     "name": "stdout",
     "output_type": "stream",
     "text": [
      "[{'coords': [0, 0, 0], 'marker': False}, {'coords': [0, 0, 0], 'marker': False}, {'coords': [0, 0, 0], 'marker': False}, {'coords': [0, 0, 0], 'marker': False}, {'coords': [0, 0, 0], 'marker': False}, {'coords': [0, 0, 0], 'marker': False}, {'coords': [0, 0, 0], 'marker': False}, {'coords': [0, 0, 0], 'marker': False}, {'coords': [0, 0, 0], 'marker': False}]\n"
     ]
    }
   ],
   "source": [
    "print(via_points)"
   ]
  },
  {
   "cell_type": "code",
   "execution_count": 5,
   "metadata": {},
   "outputs": [
    {
     "data": {
      "text/plain": [
       "(5.385164807134504, 5.385164807134504)"
      ]
     },
     "execution_count": 5,
     "metadata": {},
     "output_type": "execute_result"
    }
   ],
   "source": [
    "pts1 = [0, 0, 0]\n",
    "pts2 = [2, 3, 4]\n",
    "test1 = np.sqrt((pts2[0]-pts1[0])**2 + (pts2[1]-pts1[1])**2 + (pts2[2]-pts1[2])**2)\n",
    "test2 = np.linalg.norm(np.array(pts2)-np.array(pts1))\n",
    "\n",
    "test1, test2"
   ]
  },
  {
   "cell_type": "code",
   "execution_count": 32,
   "metadata": {},
   "outputs": [
    {
     "name": "stdout",
     "output_type": "stream",
     "text": [
      "True\n",
      "False\n"
     ]
    }
   ],
   "source": [
    "current_position = np.array([0.997, 0.997, 0.997])\n",
    "reference_position = np.array([1, 1, 1])\n",
    "pos_tolerance = reference_position - current_position\n",
    "\n",
    "print(np.all(np.abs(current_position - reference_position) < 0.005))\n",
    "\n",
    "print(np.linalg.norm(pos_tolerance) < 0.005)"
   ]
  },
  {
   "cell_type": "code",
   "execution_count": 34,
   "metadata": {},
   "outputs": [
    {
     "data": {
      "text/plain": [
       "[3, 4, 5]"
      ]
     },
     "execution_count": 34,
     "metadata": {},
     "output_type": "execute_result"
    }
   ],
   "source": [
    "test10 = [0, 1, 2, 3, 4, 5]\n",
    "test11 = test10[3:6]\n",
    "test11"
   ]
  },
  {
   "cell_type": "code",
   "execution_count": 46,
   "metadata": {},
   "outputs": [
    {
     "data": {
      "text/plain": [
       "[array([2, 2, 2]), array([3, 3, 3])]"
      ]
     },
     "execution_count": 46,
     "metadata": {},
     "output_type": "execute_result"
    }
   ],
   "source": [
    "arr = np.array([[2, 2, 2]])\n",
    "arr2 = np.array([[3, 3, 3]])\n",
    "list(arr) + list(arr2)"
   ]
  },
  {
   "cell_type": "code",
   "execution_count": 47,
   "metadata": {},
   "outputs": [
    {
     "data": {
      "text/plain": [
       "array([[0, 0, 0]])"
      ]
     },
     "execution_count": 47,
     "metadata": {},
     "output_type": "execute_result"
    }
   ],
   "source": [
    "np.cross(arr, arr2)"
   ]
  },
  {
   "cell_type": "code",
   "execution_count": 49,
   "metadata": {},
   "outputs": [
    {
     "data": {
      "text/plain": [
       "array([[0, 0, 0]])"
      ]
     },
     "execution_count": 49,
     "metadata": {},
     "output_type": "execute_result"
    }
   ],
   "source": [
    "np.cross(arr.reshape(1, 3), arr2.reshape(1, 3))"
   ]
  },
  {
   "cell_type": "code",
   "execution_count": 51,
   "metadata": {},
   "outputs": [
    {
     "data": {
      "text/plain": [
       "array([[18]])"
      ]
     },
     "execution_count": 51,
     "metadata": {},
     "output_type": "execute_result"
    }
   ],
   "source": [
    "arr @ arr2.T"
   ]
  },
  {
   "cell_type": "code",
   "execution_count": 157,
   "metadata": {},
   "outputs": [],
   "source": [
    "def IK_pos(x, y, z):\n",
    "    # Calculate the joint angles\n",
    "\n",
    "    # Define the lengths of the links\n",
    "    l1 = l3 = 0.15\n",
    "    le = 0.2\n",
    "\n",
    "    # Calculate the joint angles q1\n",
    "    q1 = np.arctan2(y, x)\n",
    "\n",
    "    # Calculate the joint angles q3\n",
    "    c3 = ((z-l1)**2 + x**2 + y**2 - l3**2 - le**2)/(2*l3*le)\n",
    "\n",
    "    s3 = np.sqrt(1-c3**2)\n",
    "    q3 = np.arctan2(s3, c3)\n",
    "\n",
    "    # Calculate the joint angles q2\n",
    "    s2 = (-le*s3)*np.sqrt(x**2 + y**2) + (l3 + le*c3)*(z-l1)\n",
    "    c2 = (l3 + le*c3)*np.sqrt(x**2 + y**2) + (le*s3)*(z-l1)\n",
    "    q2 = np.arctan2(s2, c2)\n",
    "\n",
    "    q = [q1, q2, q3]\n",
    "\n",
    "    return q"
   ]
  },
  {
   "cell_type": "code",
   "execution_count": 158,
   "metadata": {},
   "outputs": [],
   "source": [
    "x, y, z = 0, 0, 0.3\n",
    "q1 = IK_pos(x, y, z)[0]\n",
    "q2 = IK_pos(x, y, z)[1]\n",
    "q3 = IK_pos(x, y, z)[2]\n",
    "r01 = np.array([[np.cos(q1), -np.sin(q1), 0],\n",
    "                [np.sin(q1),  np.cos(q1), 0],\n",
    "                [      0,        0,       1]])\n",
    "r02 = np.array([[np.cos(q1)*np.cos(q2), -np.sin(q2)*np.cos(q1),  np.sin(q1)],\n",
    "                [np.sin(q1)*np.cos(q2), -np.sin(q1)*np.sin(q2), -np.cos(q1)],\n",
    "                [        np.sin(q2),          np.cos(q2),           0     ]])\n",
    "\n",
    "r03 = np.array([[-np.sin(q2)*np.sin(q3)*np.cos(q1) + np.cos(q1)*np.cos(q2)*np.cos(q3), -np.sin(q2)*np.cos(q1)*np.cos(q3) - np.sin(q3)*np.cos(q1)*np.cos(q2),  np.sin(q1)],\n",
    "                [-np.sin(q1)*np.sin(q2)*np.sin(q3) + np.sin(q1)*np.cos(q2)*np.cos(q3), -np.sin(q1)*np.sin(q2)*np.cos(q3) - np.sin(q1)*np.sin(q3)*np.cos(q2), -np.cos(q1)],\n",
    "                [                 np.sin(q2)*np.cos(q3) + np.sin(q3)*np.cos(q2),                 -np.sin(q2)*np.sin(q3) + np.cos(q2)*np.cos(q3),                    0   ]])\n",
    "rotateZ = np.array([0, 0, 1]).reshape(3, 1)"
   ]
  },
  {
   "cell_type": "code",
   "execution_count": 159,
   "metadata": {},
   "outputs": [],
   "source": [
    "angular_J01 = r01 @ rotateZ\n",
    "angular_J02 = r02 @ rotateZ\n",
    "angular_J03 = r03 @ rotateZ"
   ]
  },
  {
   "cell_type": "code",
   "execution_count": 160,
   "metadata": {},
   "outputs": [],
   "source": [
    "l1 = l3 = 0.15\n",
    "le = 0.2\n",
    "\n",
    "p01 = np.array([0, 0, l1]).reshape(3, 1)\n",
    "p02 = np.array([0, 0, l1]).reshape(3, 1)\n",
    "p03 = np.array([l3*np.cos(q1)*np.cos(q2), l3*np.sin(q1)*np.cos(q2), l1 + l3*np.sin(q2)]).reshape(3, 1)\n",
    "p_e = np.array([(l3*np.cos(q2) + le*np.cos(q2 + q3))*np.cos(q1), (l3*np.cos(q2) + le*np.cos(q2 + q3))*np.sin(q1), l1 + l3*np.sin(q2) + le*np.sin(q2 + q3)]).reshape(3, 1)\n",
    "\n",
    "linear_J01 = np.cross(angular_J01, (p_e - p01), axis=0)\n",
    "linear_J02 = np.cross(angular_J02, (p_e - p02), axis=0)\n",
    "linear_J03 = np.cross(angular_J03, (p_e - p03), axis=0)\n",
    "\n",
    "linear_Jacobian = np.concatenate((linear_J01, linear_J02, linear_J03), axis=1)"
   ]
  },
  {
   "cell_type": "code",
   "execution_count": 161,
   "metadata": {},
   "outputs": [
    {
     "data": {
      "text/plain": [
       "(array([[0.00000000e+00],\n",
       "        [5.55111512e-17],\n",
       "        [0.00000000e+00]]),\n",
       " array([[-1.50000000e-01],\n",
       "        [ 0.00000000e+00],\n",
       "        [ 5.55111512e-17]]),\n",
       " array([[-0.13333333],\n",
       "        [-0.        ],\n",
       "        [-0.1490712 ]]))"
      ]
     },
     "execution_count": 161,
     "metadata": {},
     "output_type": "execute_result"
    }
   ],
   "source": [
    "linear_J01, linear_J02, linear_J03"
   ]
  },
  {
   "cell_type": "code",
   "execution_count": 162,
   "metadata": {},
   "outputs": [
    {
     "name": "stdout",
     "output_type": "stream",
     "text": [
      "[[ 0.00000000e+00 -1.50000000e-01 -1.33333333e-01]\n",
      " [ 5.55111512e-17  0.00000000e+00 -0.00000000e+00]\n",
      " [ 0.00000000e+00  5.55111512e-17 -1.49071198e-01]]\n",
      "-1.241267076623634e-18\n",
      "[[ 0.00000000e+00  1.80143985e+16  0.00000000e+00]\n",
      " [-6.66666667e+00  0.00000000e+00  5.96284794e+00]\n",
      " [-2.48253415e-15  0.00000000e+00 -6.70820393e+00]]\n",
      "[[ 0.00000000e+00  0.00000000e+00  0.00000000e+00]\n",
      " [-6.66666667e+00  0.00000000e+00  5.96284794e+00]\n",
      " [-1.77635684e-15  0.00000000e+00 -6.70820393e+00]]\n"
     ]
    }
   ],
   "source": [
    "print(linear_Jacobian)\n",
    "print(np.linalg.det(linear_Jacobian))\n",
    "print(np.linalg.inv(np.matrix(linear_Jacobian)))\n",
    "print(np.linalg.pinv(linear_Jacobian))"
   ]
  },
  {
   "cell_type": "code",
   "execution_count": 171,
   "metadata": {},
   "outputs": [],
   "source": [
    "vx, vy, vz = 0, 0, 4\n",
    "q_dot = np.linalg.pinv(linear_Jacobian) @ np.array([vx, vy, vz]).reshape(3, 1)"
   ]
  },
  {
   "cell_type": "code",
   "execution_count": 172,
   "metadata": {},
   "outputs": [
    {
     "name": "stdout",
     "output_type": "stream",
     "text": [
      "[[  0.        ]\n",
      " [ 23.85139176]\n",
      " [-26.83281573]]\n"
     ]
    }
   ],
   "source": [
    "print(q_dot)"
   ]
  },
  {
   "cell_type": "code",
   "execution_count": 74,
   "metadata": {},
   "outputs": [
    {
     "data": {
      "text/plain": [
       "array([[0.35],\n",
       "       [0.  ],\n",
       "       [0.15]])"
      ]
     },
     "execution_count": 74,
     "metadata": {},
     "output_type": "execute_result"
    }
   ],
   "source": [
    "p_e.reshape(3, 1)"
   ]
  },
  {
   "cell_type": "code",
   "execution_count": 4,
   "metadata": {},
   "outputs": [
    {
     "data": {
      "text/plain": [
       "'\\\\left[\\\\begin{matrix}1 & t_{i} & t_{i}^{2} & t_{i}^{3} & t_{i}^{4} & t_{i}^{5}\\\\\\\\0 & 1 & 2 t_{i} & 3 t_{i}^{2} & 4 t_{i}^{3} & 5 t_{i}^{4}\\\\\\\\0 & 0 & 2 & 6 t_{i} & 12 t_{i}^{2} & 20 t_{i}^{3}\\\\\\\\1 & t_{f} & t_{f}^{2} & t_{f}^{3} & t_{f}^{4} & t_{f}^{5}\\\\\\\\0 & 1 & 2 t_{f} & 3 t_{f}^{2} & 4 t_{f}^{3} & 5 t_{f}^{4}\\\\\\\\0 & 0 & 2 & 6 t_{f} & 12 t_{f}^{2} & 20 t_{f}^{3}\\\\end{matrix}\\\\right]'"
      ]
     },
     "execution_count": 4,
     "metadata": {},
     "output_type": "execute_result"
    }
   ],
   "source": [
    "t0, tf = sp.Symbol('t_i'), sp.Symbol('t_f')\n",
    "\n",
    "quinticSP = sp.Matrix([[1, t0, t0**2, t0**3, t0**4, t0**5],\n",
    "            [0, 1, 2*t0, 3*t0**2, 4*t0**3, 5*t0**4],\n",
    "            [0, 0, 2, 6*t0, 12*t0**2, 20*t0**3],\n",
    "            [1, tf, tf**2, tf**3, tf**4, tf**5],\n",
    "            [0, 1, 2*tf, 3*tf**2, 4*tf**3, 5*tf**4],\n",
    "            [0, 0, 2, 6*tf, 12*tf**2, 20*tf**3]])\n",
    "\n",
    "sp.latex(quinticSP)"
   ]
  },
  {
   "cell_type": "code",
   "execution_count": 6,
   "metadata": {},
   "outputs": [
    {
     "data": {
      "text/plain": [
       "'\\\\frac{- l_{3}^{2} - l_{e}^{2} + x^{2} + y^{2} + \\\\left(- l_{1} + z\\\\right)^{2}}{2 l_{3} l_{e}}'"
      ]
     },
     "execution_count": 6,
     "metadata": {},
     "output_type": "execute_result"
    }
   ],
   "source": [
    "x, y, z, l1, l3, le = sp.Symbol('x'), sp.Symbol('y'), sp.Symbol('z'), sp.Symbol('l_1'), sp.Symbol('l_3'), sp.Symbol('l_e')\n",
    "\n",
    "eq1 = ((z-l1)**2 + x**2 + y**2 - l3**2 - le**2)/(2*l3*le)\n",
    "\n",
    "sp.latex(eq1)"
   ]
  },
  {
   "cell_type": "code",
   "execution_count": 9,
   "metadata": {},
   "outputs": [
    {
     "name": "stdout",
     "output_type": "stream",
     "text": [
      "\\left[\\begin{matrix}\\cos{\\left(q_{1} \\right)} & - \\sin{\\left(q_{1} \\right)} & 0\\\\\\sin{\\left(q_{1} \\right)} & \\cos{\\left(q_{1} \\right)} & 0\\\\0 & 0 & 1\\end{matrix}\\right] \n",
      "\n",
      " \\left[\\begin{matrix}\\cos{\\left(q_{1} \\right)} \\cos{\\left(q_{2} \\right)} & - \\sin{\\left(q_{2} \\right)} \\cos{\\left(q_{1} \\right)} & \\sin{\\left(q_{1} \\right)}\\\\\\sin{\\left(q_{1} \\right)} \\cos{\\left(q_{2} \\right)} & - \\sin{\\left(q_{1} \\right)} \\sin{\\left(q_{2} \\right)} & - \\cos{\\left(q_{1} \\right)}\\\\\\sin{\\left(q_{2} \\right)} & \\cos{\\left(q_{2} \\right)} & 0\\end{matrix}\\right] \n",
      "\n",
      " \\left[\\begin{matrix}- \\sin{\\left(q_{2} \\right)} \\sin{\\left(q_{3} \\right)} \\cos{\\left(q_{1} \\right)} + \\cos{\\left(q_{1} \\right)} \\cos{\\left(q_{2} \\right)} \\cos{\\left(q_{3} \\right)} & - \\sin{\\left(q_{2} \\right)} \\cos{\\left(q_{1} \\right)} \\cos{\\left(q_{3} \\right)} - \\sin{\\left(q_{3} \\right)} \\cos{\\left(q_{1} \\right)} \\cos{\\left(q_{2} \\right)} & \\sin{\\left(q_{1} \\right)}\\\\- \\sin{\\left(q_{1} \\right)} \\sin{\\left(q_{2} \\right)} \\sin{\\left(q_{3} \\right)} + \\sin{\\left(q_{1} \\right)} \\cos{\\left(q_{2} \\right)} \\cos{\\left(q_{3} \\right)} & - \\sin{\\left(q_{1} \\right)} \\sin{\\left(q_{2} \\right)} \\cos{\\left(q_{3} \\right)} - \\sin{\\left(q_{1} \\right)} \\sin{\\left(q_{3} \\right)} \\cos{\\left(q_{2} \\right)} & - \\cos{\\left(q_{1} \\right)}\\\\\\sin{\\left(q_{2} \\right)} \\cos{\\left(q_{3} \\right)} + \\sin{\\left(q_{3} \\right)} \\cos{\\left(q_{2} \\right)} & - \\sin{\\left(q_{2} \\right)} \\sin{\\left(q_{3} \\right)} + \\cos{\\left(q_{2} \\right)} \\cos{\\left(q_{3} \\right)} & 0\\end{matrix}\\right]\n"
     ]
    }
   ],
   "source": [
    "q1, q2, q3 = sp.Symbol('q_1'), sp.Symbol('q_2'), sp.Symbol('q_3')\n",
    "\n",
    "r01 = sp.Matrix([[sp.cos(q1), -sp.sin(q1), 0],\n",
    "                [sp.sin(q1),  sp.cos(q1), 0],\n",
    "                [      0,        0,       1]])\n",
    "r02 = sp.Matrix([[sp.cos(q1)*sp.cos(q2), -sp.sin(q2)*sp.cos(q1),  sp.sin(q1)],\n",
    "                [sp.sin(q1)*sp.cos(q2), -sp.sin(q1)*sp.sin(q2), -sp.cos(q1)],\n",
    "                [        sp.sin(q2),          sp.cos(q2),           0     ]])\n",
    "\n",
    "r03 = sp.Matrix([[-sp.sin(q2)*sp.sin(q3)*sp.cos(q1) + sp.cos(q1)*sp.cos(q2)*sp.cos(q3), -sp.sin(q2)*sp.cos(q1)*sp.cos(q3) - sp.sin(q3)*sp.cos(q1)*sp.cos(q2),  sp.sin(q1)],\n",
    "                [-sp.sin(q1)*sp.sin(q2)*sp.sin(q3) + sp.sin(q1)*sp.cos(q2)*sp.cos(q3), -sp.sin(q1)*sp.sin(q2)*sp.cos(q3) - sp.sin(q1)*sp.sin(q3)*sp.cos(q2), -sp.cos(q1)],\n",
    "                [                 sp.sin(q2)*sp.cos(q3) + sp.sin(q3)*sp.cos(q2),                 -sp.sin(q2)*sp.sin(q3) + sp.cos(q2)*sp.cos(q3),                    0   ]])\n",
    "\n",
    "print(sp.latex(r01),'\\n\\n', sp.latex(r02),'\\n\\n', sp.latex(r03))"
   ]
  },
  {
   "cell_type": "code",
   "execution_count": 11,
   "metadata": {},
   "outputs": [
    {
     "name": "stdout",
     "output_type": "stream",
     "text": [
      "\\left[\\begin{matrix}l_{3} \\cos{\\left(q_{1} \\right)} \\cos{\\left(q_{2} \\right)}\\\\l_{3} \\sin{\\left(q_{1} \\right)} \\cos{\\left(q_{2} \\right)}\\\\l_{1} + l_{3} \\sin{\\left(q_{2} \\right)}\\end{matrix}\\right] \n",
      "\n",
      " \\left[\\begin{matrix}\\left(l_{3} \\cos{\\left(q_{2} \\right)} + l_{e} \\cos{\\left(q_{2} + q_{3} \\right)}\\right) \\cos{\\left(q_{1} \\right)}\\\\\\left(l_{3} \\cos{\\left(q_{2} \\right)} + l_{e} \\cos{\\left(q_{2} + q_{3} \\right)}\\right) \\sin{\\left(q_{1} \\right)}\\\\l_{1} + l_{3} \\sin{\\left(q_{2} \\right)} + l_{e} \\sin{\\left(q_{2} + q_{3} \\right)}\\end{matrix}\\right]\n"
     ]
    }
   ],
   "source": [
    "p03 = sp.Matrix([l3*sp.cos(q1)*sp.cos(q2), l3*sp.sin(q1)*sp.cos(q2), l1 + l3*sp.sin(q2)])\n",
    "p_e = sp.Matrix([(l3*sp.cos(q2) + le*sp.cos(q2 + q3))*sp.cos(q1), (l3*sp.cos(q2) + le*sp.cos(q2 + q3))*sp.sin(q1), l1 + l3*sp.sin(q2) + le*sp.sin(q2 + q3)])\n",
    "\n",
    "print(sp.latex(p03),'\\n\\n', sp.latex(p_e))"
   ]
  }
 ],
 "metadata": {
  "kernelspec": {
   "display_name": "Python 3.8.10 64-bit",
   "language": "python",
   "name": "python3"
  },
  "language_info": {
   "codemirror_mode": {
    "name": "ipython",
    "version": 3
   },
   "file_extension": ".py",
   "mimetype": "text/x-python",
   "name": "python",
   "nbconvert_exporter": "python",
   "pygments_lexer": "ipython3",
   "version": "3.8.10"
  },
  "orig_nbformat": 4,
  "vscode": {
   "interpreter": {
    "hash": "916dbcbb3f70747c44a77c7bcd40155683ae19c65e1c03b4aa3499c5328201f1"
   }
  }
 },
 "nbformat": 4,
 "nbformat_minor": 2
}
