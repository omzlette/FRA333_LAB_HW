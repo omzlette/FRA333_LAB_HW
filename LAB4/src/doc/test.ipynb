{
 "cells": [
  {
   "cell_type": "code",
   "execution_count": 1,
   "metadata": {},
   "outputs": [],
   "source": [
    "import numpy as np\n",
    "import yaml\n",
    "import os"
   ]
  },
  {
   "cell_type": "code",
   "execution_count": 2,
   "metadata": {},
   "outputs": [],
   "source": [
    "def QuinticTrajGen(t0, tf, q, v):\n",
    "    quinticTrajMat = np.array([[1, t0, t0**2, t0**3, t0**4, t0**5],\n",
    "                                [0, 1, 2*t0, 3*t0**2, 4*t0**3, 5*t0**4],\n",
    "                                [0, 0, 2, 6*t0, 12*t0**2, 20*t0**3],\n",
    "                                [1, tf, tf**2, tf**3, tf**4, tf**5],\n",
    "                                [0, 1, 2*tf, 3*tf**2, 4*tf**3, 5*tf**4],\n",
    "                                [0, 0, 2, 6*tf, 12*tf**2, 20*tf**3]])\n",
    "    inputParam = np.array([[q[0]],\n",
    "                            [v[0]],\n",
    "                            [0],\n",
    "                            [q[1]],\n",
    "                            [v[1]],\n",
    "                            [0]])\n",
    "    outputParam = np.linalg.inv(quinticTrajMat) @ inputParam\n",
    "    return outputParam\n",
    "\n",
    "def QuinticEval(t, param):\n",
    "    return param[0] + param[1]*t + param[2]*t**2 + param[3]*t**3 + param[4]*t**4 + param[5]*t**5\n"
   ]
  },
  {
   "cell_type": "code",
   "execution_count": 5,
   "metadata": {},
   "outputs": [],
   "source": [
    "test1 = QuinticTrajGen(0, 1, [0, 1], [0, 0])"
   ]
  },
  {
   "cell_type": "code",
   "execution_count": 10,
   "metadata": {},
   "outputs": [
    {
     "data": {
      "text/plain": [
       "array([1.])"
      ]
     },
     "execution_count": 10,
     "metadata": {},
     "output_type": "execute_result"
    }
   ],
   "source": [
    "QuinticEval(1, test1)"
   ]
  },
  {
   "cell_type": "code",
   "execution_count": 29,
   "metadata": {},
   "outputs": [
    {
     "name": "stdout",
     "output_type": "stream",
     "text": [
      "/home/omzlette/gitROS/FRA333_LAB_HW/LAB4/src/doc/../../install\n",
      "True\n",
      "True\n"
     ]
    }
   ],
   "source": [
    "\n",
    "\n",
    "print(os.path.join(os.path.abspath(''), '../'*2, 'install'))\n",
    "print(os.path.exists(os.path.join('/home/omzlette/gitROS/FRA333_LAB_HW/LAB4/install/doppelt_control/share/doppelt_control/scripts', '../'*5, 'src', 'lab4_29', 'doppelt_control', 'config')))\n",
    "print(os.path.exists('../../install/'))"
   ]
  },
  {
   "cell_type": "code",
   "execution_count": 31,
   "metadata": {},
   "outputs": [],
   "source": [
    "\n",
    "\n",
    "config = {'Kp': 1, 'Ki': 2}\n",
    "with open('../lab4_29/doppelt_control/config/tracker_config.yaml', 'w') as f:\n",
    "    yaml.dump(config, f)"
   ]
  },
  {
   "cell_type": "code",
   "execution_count": 4,
   "metadata": {},
   "outputs": [
    {
     "name": "stdout",
     "output_type": "stream",
     "text": [
      "{'Kp': [20, 20, 20], 'Ki': [0, 0, 0]}\n"
     ]
    }
   ],
   "source": [
    "with open('../lab4_29/doppelt_control/config/tracker_config.yaml', 'r') as f:\n",
    "    config1 = yaml.load(f, Loader=yaml.FullLoader)\n",
    "    print(config1)"
   ]
  },
  {
   "cell_type": "code",
   "execution_count": 3,
   "metadata": {},
   "outputs": [],
   "source": [
    "via_points = [{'coords': [0, 0, 0], 'marker': False},\n",
    "              {'coords': [0, 0, 0], 'marker': False},\n",
    "              {'coords': [0, 0, 0], 'marker': False},\n",
    "              {'coords': [0, 0, 0], 'marker': False},\n",
    "              {'coords': [0, 0, 0], 'marker': False},\n",
    "              {'coords': [0, 0, 0], 'marker': False},\n",
    "              {'coords': [0, 0, 0], 'marker': False},\n",
    "              {'coords': [0, 0, 0], 'marker': False},\n",
    "              {'coords': [0, 0, 0], 'marker': False}]\n",
    "\n",
    "with open('../lab4_29/doppelt_control/config/via_points.yaml', 'w') as f:\n",
    "    yaml.dump(via_points, f)"
   ]
  },
  {
   "cell_type": "code",
   "execution_count": 4,
   "metadata": {},
   "outputs": [
    {
     "data": {
      "text/plain": [
       "9"
      ]
     },
     "execution_count": 4,
     "metadata": {},
     "output_type": "execute_result"
    }
   ],
   "source": [
    "len(via_points)"
   ]
  },
  {
   "cell_type": "code",
   "execution_count": 4,
   "metadata": {},
   "outputs": [
    {
     "data": {
      "text/plain": [
       "[{'coords': [0, 0, 0], 'marker': False},\n",
       " {'coords': [0, 0, 0], 'marker': False},\n",
       " {'coords': [0, 0, 0], 'marker': False},\n",
       " {'coords': [0, 0, 0], 'marker': False},\n",
       " {'coords': [0, 0, 0], 'marker': False},\n",
       " {'coords': [0, 0, 0], 'marker': False},\n",
       " {'coords': [0, 0, 0], 'marker': False},\n",
       " {'coords': [0, 0, 0], 'marker': False},\n",
       " {'coords': [0, 0, 0], 'marker': False}]"
      ]
     },
     "execution_count": 4,
     "metadata": {},
     "output_type": "execute_result"
    }
   ],
   "source": [
    "via_points"
   ]
  },
  {
   "cell_type": "code",
   "execution_count": 5,
   "metadata": {},
   "outputs": [
    {
     "data": {
      "text/plain": [
       "[0, 0, 0]"
      ]
     },
     "execution_count": 5,
     "metadata": {},
     "output_type": "execute_result"
    }
   ],
   "source": [
    "with open('../lab4_29/doppelt_control/config/via_points.yaml', 'r') as f:\n",
    "    via_points = yaml.load(f, Loader=yaml.FullLoader)\n",
    "via_points[0]['coords']"
   ]
  },
  {
   "cell_type": "code",
   "execution_count": 6,
   "metadata": {},
   "outputs": [
    {
     "name": "stdout",
     "output_type": "stream",
     "text": [
      "[{'coords': [0, 0, 0], 'marker': False}, {'coords': [0, 0, 0], 'marker': False}, {'coords': [0, 0, 0], 'marker': False}, {'coords': [0, 0, 0], 'marker': False}, {'coords': [0, 0, 0], 'marker': False}, {'coords': [0, 0, 0], 'marker': False}, {'coords': [0, 0, 0], 'marker': False}, {'coords': [0, 0, 0], 'marker': False}, {'coords': [0, 0, 0], 'marker': False}]\n"
     ]
    }
   ],
   "source": [
    "print(via_points)"
   ]
  },
  {
   "cell_type": "code",
   "execution_count": 5,
   "metadata": {},
   "outputs": [
    {
     "data": {
      "text/plain": [
       "(5.385164807134504, 5.385164807134504)"
      ]
     },
     "execution_count": 5,
     "metadata": {},
     "output_type": "execute_result"
    }
   ],
   "source": [
    "pts1 = [0, 0, 0]\n",
    "pts2 = [2, 3, 4]\n",
    "test1 = np.sqrt((pts2[0]-pts1[0])**2 + (pts2[1]-pts1[1])**2 + (pts2[2]-pts1[2])**2)\n",
    "test2 = np.linalg.norm(np.array(pts2)-np.array(pts1))\n",
    "\n",
    "test1, test2"
   ]
  }
 ],
 "metadata": {
  "kernelspec": {
   "display_name": "Python 3.8.10 64-bit",
   "language": "python",
   "name": "python3"
  },
  "language_info": {
   "codemirror_mode": {
    "name": "ipython",
    "version": 3
   },
   "file_extension": ".py",
   "mimetype": "text/x-python",
   "name": "python",
   "nbconvert_exporter": "python",
   "pygments_lexer": "ipython3",
   "version": "3.8.10"
  },
  "orig_nbformat": 4,
  "vscode": {
   "interpreter": {
    "hash": "916dbcbb3f70747c44a77c7bcd40155683ae19c65e1c03b4aa3499c5328201f1"
   }
  }
 },
 "nbformat": 4,
 "nbformat_minor": 2
}
