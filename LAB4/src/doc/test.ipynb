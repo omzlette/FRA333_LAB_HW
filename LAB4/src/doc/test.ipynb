{
 "cells": [
  {
   "cell_type": "code",
   "execution_count": 1,
   "metadata": {},
   "outputs": [],
   "source": [
    "import numpy as np"
   ]
  },
  {
   "cell_type": "code",
   "execution_count": 2,
   "metadata": {},
   "outputs": [],
   "source": [
    "def QuinticTrajGen(t0, tf, q, v):\n",
    "    quinticTrajMat = np.array([[1, t0, t0**2, t0**3, t0**4, t0**5],\n",
    "                                [0, 1, 2*t0, 3*t0**2, 4*t0**3, 5*t0**4],\n",
    "                                [0, 0, 2, 6*t0, 12*t0**2, 20*t0**3],\n",
    "                                [1, tf, tf**2, tf**3, tf**4, tf**5],\n",
    "                                [0, 1, 2*tf, 3*tf**2, 4*tf**3, 5*tf**4],\n",
    "                                [0, 0, 2, 6*tf, 12*tf**2, 20*tf**3]])\n",
    "    inputParam = np.array([[q[0]],\n",
    "                            [v[0]],\n",
    "                            [0],\n",
    "                            [q[1]],\n",
    "                            [v[1]],\n",
    "                            [0]])\n",
    "    outputParam = np.linalg.inv(quinticTrajMat) @ inputParam\n",
    "    return outputParam\n",
    "\n",
    "def QuinticEval(t, param):\n",
    "    return param[0] + param[1]*t + param[2]*t**2 + param[3]*t**3 + param[4]*t**4 + param[5]*t**5\n"
   ]
  },
  {
   "cell_type": "code",
   "execution_count": 5,
   "metadata": {},
   "outputs": [],
   "source": [
    "test1 = QuinticTrajGen(0, 1, [0, 1], [0, 0])"
   ]
  },
  {
   "cell_type": "code",
   "execution_count": 10,
   "metadata": {},
   "outputs": [
    {
     "data": {
      "text/plain": [
       "array([1.])"
      ]
     },
     "execution_count": 10,
     "metadata": {},
     "output_type": "execute_result"
    }
   ],
   "source": [
    "QuinticEval(1, test1)"
   ]
  }
 ],
 "metadata": {
  "kernelspec": {
   "display_name": "Python 3.8.10 64-bit",
   "language": "python",
   "name": "python3"
  },
  "language_info": {
   "codemirror_mode": {
    "name": "ipython",
    "version": 3
   },
   "file_extension": ".py",
   "mimetype": "text/x-python",
   "name": "python",
   "nbconvert_exporter": "python",
   "pygments_lexer": "ipython3",
   "version": "3.8.10"
  },
  "orig_nbformat": 4,
  "vscode": {
   "interpreter": {
    "hash": "916dbcbb3f70747c44a77c7bcd40155683ae19c65e1c03b4aa3499c5328201f1"
   }
  }
 },
 "nbformat": 4,
 "nbformat_minor": 2
}
