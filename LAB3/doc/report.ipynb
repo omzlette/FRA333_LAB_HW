{
 "cells": [
  {
   "cell_type": "markdown",
   "metadata": {},
   "source": [
    "# **<font size=7>Lab 3 Report (Group 29)</font>**\n",
    "\n",
    "<u>รายชื่อสมาชิกในกลุ่ม:</u>\n",
    "- นายธนัช ธรนิศตระกูล 63340500025\n",
    "- นายสิรวิชญ์ ลั้วสมบูรณ์ 63340500066\n",
    "\n",
    "<hr>"
   ]
  },
  {
   "cell_type": "markdown",
   "metadata": {},
   "source": [
    "## **<font size=6>ขั้นตอนการลงมือทำ</font>**\n",
    "\n",
    "<u>**<font size=4>การแสดงผลแบบจำลองของหุ่นยนต์ใน \"rviz2\"**</font></u>\n",
    "\n",
    "**ภายใน package \"sandevistan_description\"**\n",
    "\n",
    "**NOTE**: Folder \"meshes\" จะมีไฟล์ mesh (.stl) สำหรับการสร้างแบบจำลองของหุ่นยนต์\n",
    "\n",
    "1. เขียนไฟล์ Xacro สำหรับสร้าง Macro ต่าง ๆ เพื่อใช้สร้างหุ่นยนต์ (create_link.xacro)\n",
    "    - Macro สำหรับใส่สีให้หุ่นยนต์\n",
    "    \n",
    "    ![Color Macro](pic/colormacro.png)\n",
    "\n",
    "    - Macro สำหรับสร้าง Mesh ของหุ่นยนต์\n",
    "\n",
    "    ![Color Macro](pic/meshmacro.png)\n",
    "\n",
    "    - Macro สำหรับสร้าง Visual ของหุ่นยนต์\n",
    "\n",
    "    ![Color Macro](pic/vismacro.png)\n",
    "\n",
    "    - Macro สำหรับเพิ่ม Collision ของหุ่นยนต์\n",
    "\n",
    "    ![Color Macro](pic/colmacro.png)\n",
    "\n",
    "    - Macro สำหรับเพิ่ม Inertia ของหุ่นยนต์\n",
    "\n",
    "    ![Color Macro](pic/inertiamacro.png)\n",
    "\n",
    "    - Macro สำหรับสร้าง Link ของหุ่นยนต์\n",
    "\n",
    "    ![Color Macro](pic/linkmacro.png)\n",
    "\n",
    "2. เขียนไฟล์ Xacro ชื่อ \"sandevistan_robot.urdf.xacro\" และนำไปไว้ที่ Folder \"sandevistan_description/xacro_description\" โดยด้านในไฟล์จะมีการสร้าง Link ทุกลิงค์ที่มี (รวมถึง World และ End Effector)\n",
    "\n",
    "    - Link 0: เป็นลิงค์ของฐาน (Base Link) จะเชื่อมกับ World และ Link 1\n",
    "    \n",
    "    ![XACRO Base Link](pic/xacrobase.png)\n",
    "\n",
    "    - Link 1: เป็นลิงค์แรกจากฐาน มีการขยับเป็น Revolute จะเชื่อมกับ Link 0 และ Link 2\n",
    "\n",
    "    ![XACRO Link 1](pic/xacrolink1.png)\n",
    "\n",
    "    - Link 2: เป็นลิงค์ที่ 2 จากฐาน มีการขยับเป็น Revolute จะเชื่อมกับ Link 1 และ Link 3\n",
    "\n",
    "    ![XACRO Link 2](pic/xacrolink2.png)\n",
    "\n",
    "    - Link 3: เป็นลิงค์ที่ 3 จากฐาน มีการขยับเป็น Revolute จะเชื่อมกับ Link 2 และ End Effector\n",
    "\n",
    "    ![XACRO Link 3](pic/xacrolink3.png)\n",
    "\n",
    "3. gazebo.xacro\n",
    "\n",
    "4. include.xacro\n",
    "\n",
    "5. เขียนไฟล์ Launch ไว้สำหรับ Launch Package (description launch)\n",
    "\n",
    "**ภายใน Package \"sandevistan_kinematics\"**\n",
    "\n",
    "**Note:** ก่อนเริ่มคำนวณจะต้องรอ 10 วินาที เพื่อให้ Gazebo เปิดก่อนที่จะเริ่มการคำนวณ\n",
    "\n",
    "ใน Package นี้จะมีการคำนวณหาตำแหน่งของ Joint ผ่าน Inverse Kinematics โดยจะมีการรับค่าจาก IMU เข้ามาเพื่อนำมาบังคับให้หุ่นยนต์ขยับตามทิศทางที่ต้องการ\n",
    "- เมื่อ X เป็นบวก หุ่นยนต์จะยืดไปด้านหน้า\n",
    "- เมื่อ X เป็นลบ หุ่นยนต์จะหดไปด้านหลัง\n",
    "- เมื่อ Y เป็นบวก หุ่นยนต์จะหมุนทวนเข็มนาฬิกา\n",
    "- เมื่อ Y เป็นลบ หุ่นยนต์จะหมุนตามเข็มนาฬิกา\n",
    "- เมื่อ Z เป็นบวก หุ่นยนต์จะยืดไปด้านบน\n",
    "- เมื่อ Z เป็นลบ หุ่นยนต์จะหดไปด้านล่าง"
   ]
  },
  {
   "cell_type": "markdown",
   "metadata": {},
   "source": [
    "<hr>\n",
    "\n",
    "## **<font size=6>การเชื่อมต่อ IMU เข้ากับ Xicro</font>**\n",
    "\n",
    "Arduino Uno Wifi Rev2 จะรับค่า Linear Acceleration และ Angular Velocity ในแกน X, Y, Z จาก IMU และส่งค่าไปยัง Xicro Node ผ่าน UART Protocol จากนั้น Xicro Node จะทำการส่งค่าไปยัง kinematic_server Node (Algorithm สำหรับควบคุมหุ่นยนต์) และ calibrate Node (Node สำหรับทำ IMU Calibration) ผ่าน ROS Topic ที่ชื่อว่า /sandevistan_IMU ด้วยความถี่ 100 Hz\n",
    "\n",
    "การเขียนไฟล์ Arduino ชื่อ \"\" สำหรับส่งค่าไปยัง Xicro Node\n",
    "\n",
    "![Arduino Code](pic/arduinocode.png)\n",
    "\n",
    " "
   ]
  },
  {
   "cell_type": "markdown",
   "metadata": {},
   "source": [
    "<hr>\n",
    "\n",
    "## **<font size=6>การทำ Calibration ของ IMU</font>**\n",
    "\n",
    "ในการทำ Calibration จะเริ่มจากการสร้าง Node ชื่อ \"calibrate\" โดยใน Node นี้จะมีการรับค่าจาก IMU ผ่าน Topic ชื่อ \"/sandevistan_IMU\" จากนั้นจะนำค่าที่ได้มาเก็บไว้ใน List จากนั้นหลังจากผ่านไป 10 วินาที จะนำค่าที่เก็บไว้มาหาค่า Mean และเก็บเข้าสู่ไฟล์ YAML เพื่อนำไปใช้ใน Kinematic Server ต่อไป\n",
    "\n",
    "- สร้าง Node ชื่อ \"calibrate\"\n",
    "\n",
    "![Calibrate Node](pic/calibrateNode.png)\n",
    "\n",
    "- รับค่าจาก IMU ผ่าน Topic ชื่อ \"/sandevistan_IMU\"\n",
    "\n",
    "![Get IMU](pic/getIMU.png)\n",
    "\n",
    "- นำค่าที่ได้มาเก็บไว้ใน List\n",
    "\n",
    "![Store IMU](pic/storeIMU.png)\n",
    "\n",
    "- หลังจากผ่านไป 10 วินาที จะนำค่าที่เก็บไว้มาหาค่า Mean และเก็บเข้าสู่ไฟล์ YAML เพื่อนำไปใช้ใน Kinematic Server ต่อไป\n",
    "\n",
    "![Mean Function](pic/meanFunction.png)\n",
    "\n",
    "![Spin Node](pic/spinNode.png)\n",
    "\n",
    "![Write YAML](pic/writeYAML.png)"
   ]
  },
  {
   "cell_type": "markdown",
   "metadata": {},
   "source": [
    "<hr>\n",
    "\n",
    "## **<font size=6>Algorithm X สำหรับสั่งงานหุ่นยนต์</font>**\n",
    "\n",
    "1. kinematic_server Node จะรับค่า IMU ผ่าน ROS Topic ที่ชื่อว่า /sandevistan_IMU\n",
    "\n",
    "2. "
   ]
  },
  {
   "cell_type": "markdown",
   "metadata": {},
   "source": [
    "<hr>\n",
    "\n",
    "## **<font size=6>การนำไฟล์ URDF/XACRO ไปยังโปรแกรม Gazebo</font>**"
   ]
  }
 ],
 "metadata": {
  "kernelspec": {
   "display_name": "Python 3.8.10 64-bit",
   "language": "python",
   "name": "python3"
  },
  "language_info": {
   "codemirror_mode": {
    "name": "ipython",
    "version": 3
   },
   "file_extension": ".py",
   "mimetype": "text/x-python",
   "name": "python",
   "nbconvert_exporter": "python",
   "pygments_lexer": "ipython3",
   "version": "3.8.10"
  },
  "orig_nbformat": 4,
  "vscode": {
   "interpreter": {
    "hash": "916dbcbb3f70747c44a77c7bcd40155683ae19c65e1c03b4aa3499c5328201f1"
   }
  }
 },
 "nbformat": 4,
 "nbformat_minor": 2
}
