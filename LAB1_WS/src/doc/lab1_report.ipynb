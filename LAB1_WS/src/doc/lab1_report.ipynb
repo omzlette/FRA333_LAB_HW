{
 "cells": [
  {
   "cell_type": "markdown",
   "metadata": {},
   "source": [
    "<font size=7><b>Lab 1 Report (Group 29)</b></font>\n",
    "\n",
    "<u>รายชื่อสมาชิกในกลุ่ม:</u>\n",
    "- นายธนัช ธรนิศตระกูล 63340500025\n",
    "- นายสิรวิชญ์ ลั้วสมบูรณ์ 63340500066\n",
    "\n",
    "<hr>\n",
    "<font size=4>จากโจทย์ที่ได้ในไฟล์ <a href='instruction.ipynb'>instruction.ipynb</a> ที่ว่า:</font>\n",
    "<hr>\n",
    "ให้นักศึกษาออกแบบระบบโดยใช้ ROS2 สำหรับสร้างระบบ Random Walk ที่มีสัญญาณรบกวนที่เป็นรูปแบบ Random Noise ที่มีการกระจายตัวแบบ Gaussian Distribution (การกระจายตัวนี้จะประกอบไปด้วยค่า Mean และ Variance) ที่ประกอบไปด้วย Node ต่าง ๆ ดังต่อไปนี้\n",
    "\n",
    "- <font color='red'>Node: /linear/noise_generator</font> ใช้สำหรับการสร้างสัญญาณรบกวนในแง่ของความเร็วเชิงเส้น โดยมีจำนวน 1 ช่องสัญญาณที่ประกอบไปด้วย\n",
    "    - <font color='green'>Topic (Publisher): /noise</font> โดยมี <font color='green'>Type เป็น std_msgs/Float64</font>\n",
    "    - <font color='pink'>Argument System: /rate</font> ซึ่งเป็นความถี่ในการส่งสัญญาณ ที่สามารถตั้งค่าได้จาก Launch File (Default rate: 5 Hz)\n",
    "    - <font color='blue'>Service (Server): /set_noise</font> สำหรับการปรับค่าคุณสมบัติของสัญญาณรบกวน โดยมีการเรียกใช้งาน Service ผ่าน Custom Service ในรูปแบบดังนี้ (ไฟล์ <a href='../lab1_interfaces/srv/SetNoise.srv'>SetNoise.srv ใน lab1_interfaces/srv)</a>\n",
    "        - <font color='purple'>request: /mean</font> โดยมี <font color='purple'>Type เป็น std_msgs/Float64</font> (The default mean is 0.0)\n",
    "        - <font color='purple'>request: /variance</font> โดยมี <font color='purple'>Type เป็น std_msgs/Float64</font> (The default variance is 1.0)\n",
    "- <font color='red'>Node: /angular/noise_generator</font> ใช้สำหรับการสร้างสัญญาณรบกวนในแง่ของความเร็วเชิงมุม\n",
    "    - <font color='green'>Topic (Publisher): /noise</font> โดยมี <font color='green'>Type เป็น std_msgs/Float64</font>\n",
    "    - <font color='pink'>Argument System: /rate</font> ซึ่งเป็นความถี่ในการส่งสัญญาณ ที่สามารถตั้งค่าได้จาก Launch File (Default rate: 5 Hz)\n",
    "    - <font color='blue'>Service (Server): /set_noise</font> สำหรับการปรับค่าคุณสมบัติของสัญญาณรบกวน โดยมีการเรียกใช้งาน Service ผ่าน Custom Service ในรูปแบบดังนี้ (ไฟล์ <a href='../lab1_interfaces/srv/SetNoise.srv'>SetNoise.srv ใน lab1_interfaces/srv)</a>\n",
    "        - <font color='purple'>request: /mean</font> โดยมี <font color='purple'>Type เป็น std_msgs/Float64</font> (The default mean is 0.0)\n",
    "        - <font color='purple'>request: /variance</font> โดยมี <font color='purple'>Type เป็น std_msgs/Float64</font> (The default variance is 1.0)\n",
    "- <font color='red'>Node: /velocity_multiplexer</font> ใช้สำหรับสร้างสัญญาณความเร็ว Twist เพื่อสั่งงานหุ่นยนต์เต่า\n",
    "    - <font color='green'>Topic (Publisher): /cmd_vel</font> โดยมี <font color='green'>Type เป็น geometry_msgs/Twist</font>\n",
    "    - <font color='green'>Topic (Subscriber): /linear/noise</font> โดยมี <font color='green'>Type เป็น std_msgs/Float64</font>\n",
    "    - <font color='green'>Topic (Subscriber): /angular/noise</font> โดยมี <font color='green'>Type เป็น std_msgs/Float64</font>\n",
    "        - <font color='pink'>Argument System: /rate</font> ซึ่งเป็นความถี่ในการส่งสัญญาณ ที่สามารถตั้งค่าได้จาก Launch File (Default rate: 5 Hz)\n",
    "- <font color='red'>Node: /turtlesim</font> ใช้สำหรับรับค่าสัญญาณความเร็ว Twist จากนั้นเคลื่อนที่ตามคำสั่งที่กำหนด\n",
    "<hr>\n",
    "โดยที่ตัวระบบมีหน้าตาตามรูปด้านล่าง\n",
    "\n",
    "<img src='pic/pic1.png'><center>รูปที่ 1 แสดงภาพรวมของระบบ Random Walk</center></img>\n",
    "<hr>\n",
    "<br>\n",
    "<font size=5><b>ขั้นตอนการลงมือทำ</b></font><br>\n",
    "\n",
    "หลังจากที่ดาวน์โหลดไฟล์ .zip ของอาจารย์มาก็ทำการเปลี่ยนชื่อ Package จาก \"lab1\" เป็น \"fra333_lab1_29\" ตาม Format ที่อาจารย์ตั้งไว้ และนำไฟล์ทั้งหมดที่ Extract ออกมาจากไฟล์ .zip ไปเก็บไว้ใน Workspace ของเราภายใต้โฟลเดอร์ \"src\"\n",
    "\n",
    "<font size=3><b>ใน Package \"fra333_lab1_29\"</b></font>\n",
    "<b>การแก้ไขภายในไฟล์ <a href='../fra333_lab1_29/CMakeLists.txt'>CMakeLists.txt</a></b>\n",
    "1. เนื่องจากมีการแก้ไขชื่อ Package จึงต้องแก้ไขชื่อ Project จาก `project(lab1)` เป็น `project(fra333_lab1_29)`\n",
    "2. เพิ่ม Path ของ Python Executables ที่ต้องการจะใช้งานภายใน `install(PROGRAMS)` โดยใน Lab ครั้งนี้จะมี Python Executables ทั้งหมด 2 ไฟล์ภายใต้โฟลเดอร์ \"scripts\" จึงต้องเพิ่ม 2 Paths นี้เข้าไป\n",
    "    - <a href='../fra333_lab1_29/scripts/noise_generator.py'>scripts/noise_generator.py</a>\n",
    "    - <a href='../fra333_lab1_29/scripts/velocity_mux.py'>scripts/velocity_mux.py</a>\n",
    "3. เพิ่ม Directory ของ Launch Files ที่ต้องการจะใช้ภายใน `install(DIRECTORY)` โดยใน Lab ครั้งนี้จะมี Launch File 1 ไฟล์ภายใต้โฟลเดอร์ \"launch\" เพียงโฟลเดอร์เดียว จึงต้องเพิ่มชื่อโฟลเดอร์ \"launch\" เข้าไปเพียงโฟลเดอร์เดียว\n",
    "\n",
    "<b>การแก้ไขภายในไฟล์ <a href='../fra333_lab1_29/package.xml'>package.xml</a></b>\n",
    "1. เนื่องจากมีการแก้ไขชื่อ Package จึงต้องแก้ไขชื่อใน Tag \"name\" จาก `<name>lab1</name>` เป็น `<name>fra333_lab1_29</name>`\n",
    "\n",
    "<font size=3><b>ใน Package \"lab1_interfaces\"</b></font>\n",
    "<b>การแก้ไขภายในไฟล์ <a href='../lab1_interfaces/CMakeLists.txt'>CMakeLists.txt</a></b>\n",
    "1. เนื่องจากจะมีการใช้งาน Service จึงต้องเพิ่ม Path ของ Service ที่จะใช้เข้าไปใน `rosidl_generate_interfaces(${PROJECT_NAME})` โดย Service Path ที่ต้องใส่เข้าไปคือ\n",
    "    - <a href='../lab1_interfaces/srv/SetNoise.srv'>\"srv/SetNoise.srv\"</a>\n",
    "\n",
    "หลังจากแก้ไขไฟล์ CMakeLists.txt และ package.xml ทำการ `colcon build --symlink-install` ใน Workspace ของเรา\n",
    "\n",
    "<b>การตั้งค่าไฟล์ <a href=\"../lab1_interfaces/srv/SetNoise.srv\">SetNoise.srv</a></b>\n",
    "\n",
    "ภายในไฟล์จะมีการประกาศตัวแปรในส่วนของ Request และละในส่วนของ Response ไว้\n",
    "\n",
    "`std_msgs/Float64 mean`<br>\n",
    "`std_msgs/Float64 variance`<br>\n",
    "`---`<br>\n",
    "\n",
    "<b>การสร้าง Node \"noise_generator\" ภายใน Python Script \"<a href='../fra333_lab1_29/scripts/noise_generator.py'>noise_generator.py</a>\"</b>"
   ]
  },
  {
   "cell_type": "code",
   "execution_count": null,
   "metadata": {},
   "outputs": [],
   "source": [
    "import rclpy\n",
    "from rclpy.node import Node\n",
    "\n",
    "from std_msgs.msg import Float64\n",
    "\n",
    "from lab1_interfaces.srv import SetNoise\n",
    "\n",
    "import numpy as np\n",
    "import sys\n",
    "\n",
    "class NoiseGenerator(Node):\n",
    "    def __init__(self):\n",
    "        super().__init__('noise_generator')\n",
    "        if len(sys.argv)>2: \n",
    "            self.rate = float(sys.argv[1])\n",
    "        else:\n",
    "            self.rate = 5.0\n",
    "\n",
    "        self.noise_pub = self.create_publisher(Float64, f'{self.get_namespace()}/noise', 10)\n",
    "        self.timer = self.create_timer(1/self.rate, self.timer_callback)\n",
    "\n",
    "        self.set_noise_service = self.create_service(SetNoise, f'{self.get_namespace()}/set_noise', self.set_noise_callback)\n",
    "\n",
    "        # default mean and variance for linear and angular\n",
    "        self.mean = 0.0\n",
    "        self.variance = 1.0\n",
    "    \n",
    "    def set_noise_callback(self,request:SetNoise.Request,response:SetNoise.Response):\n",
    "        self.mean = request.mean.data\n",
    "        self.variance = request.variance.data\n",
    "        return response\n",
    "    \n",
    "    def timer_callback(self):\n",
    "        noise = Float64()\n",
    "        noise.data = np.random.normal(self.mean,np.sqrt(self.variance))\n",
    "        self.noise_pub.publish(noise)\n",
    "        self.get_logger().info(f'{self.get_namespace()} Mean: {self.mean}, \\nVariance: {self.variance}')\n",
    "\n",
    "def main(args=None):\n",
    "    rclpy.init(args=args)\n",
    "    noiseGen = NoiseGenerator()\n",
    "    rclpy.spin(noiseGen)\n",
    "    noiseGen.destroy_node()\n",
    "    rclpy.shutdown()\n",
    "\n",
    "if __name__=='__main__':\n",
    "    main()"
   ]
  },
  {
   "cell_type": "markdown",
   "metadata": {},
   "source": [
    "<font size=\"3\"><b>พิจารณา Python Script</b></font>\n",
    "1. การ Import Module, Library และ Service ต่าง ๆ ที่ Noise Generator จะต้องใช้งาน ซึ่งประกอบไปด้วย\n",
    "- ROS Client Library for Python สำหรับใช้งาน Python กับ ROS2"
   ]
  },
  {
   "cell_type": "code",
   "execution_count": null,
   "metadata": {},
   "outputs": [],
   "source": [
    "import rclpy\n",
    "from rclpy.node import Node"
   ]
  },
  {
   "cell_type": "markdown",
   "metadata": {},
   "source": [
    "- Standard Messages ประเภท Float64 สำหรับค่าที่ได้รับมาจาก Service Client จากที่โจทย์กำหนด"
   ]
  },
  {
   "cell_type": "code",
   "execution_count": null,
   "metadata": {},
   "outputs": [],
   "source": [
    "from std_msgs.msg import Float64"
   ]
  },
  {
   "cell_type": "markdown",
   "metadata": {},
   "source": [
    "- Service \"SetNoise\" จาก Package \"lab1_interfaces\""
   ]
  },
  {
   "cell_type": "code",
   "execution_count": null,
   "metadata": {},
   "outputs": [],
   "source": [
    "from lab1_interfaces.srv import SetNoise"
   ]
  },
  {
   "cell_type": "markdown",
   "metadata": {},
   "source": [
    "- Library \"NumPy\" สำหรับสร้าง Noise\n",
    "- Library \"sys\" สำหรับรับ Arguments จาก Terminal"
   ]
  },
  {
   "cell_type": "code",
   "execution_count": null,
   "metadata": {},
   "outputs": [],
   "source": [
    "import numpy as np\n",
    "import sys"
   ]
  },
  {
   "cell_type": "markdown",
   "metadata": {},
   "source": [
    "2. ใน Class \"NoiseGenerator\" จะมีการ Initialize Node ด้วยชื่อ \"noise_generator\" \n",
    "\n",
    "    มี Condition สำหรับรับ Argument Rate ที่ User ใส่เข้ามาตอนสั่ง Launch File ผ่าน Terminal (ros2 launch ...) ซึ่งหากไม่มี Argument เข้ามาจะตั้งเป็นค่า Default ซึ่งมีค่าเท่ากับ 5 Hz (5.0)\n",
    "\n",
    "    อีกทั้งยังมีการสร้าง Publisher, Timer และ Service Server ดังนี้:\n",
    "    - Publisher (`self.noise_pub`): สร้าง Publisher ที่มีการส่งค่าออกไปเป็น Float64 ผ่าน Topic ชื่อ \"/noise\" ของ Namespace นั้นๆ หากเป็น Linear ก็จะเป็น \"`/linear/noise`\" และ Angular จะเป็น \"`/angular/noise`\" โดยมี Queue Size (QoS: Quality of Service) = 10\n",
    "\n",
    "    - Timer (`self.timer`): สร้าง Timer ที่จะเข้าไปทำงานใน Callback (`self.timer_callback`) ทุกๆ `self.rate` ที่กำหนด\n",
    "\n",
    "    - Service Server (`self.set_noise_service`): สร้าง Service Server ที่จะมีค่าเข้า-ออกตามไฟล์ <a href='../lab1_interfaces/srv/SetNoise.srv'>SetNoise.srv</a> ชื่อ \"/set_noise\" ของ Namespace นั้นๆ หากเป็น Linear ก็จะเป็น \"`/linear/set_noise`\" และ Angular จะเป็น \"`/angular/set_noise`\"\n",
    "\n",
    "    สุดท้ายคือประกาศ Default Mean (`self.mean`) และ Variance (`self.variance`) ซึ่งมีค่าเท่ากับ `0.0` และ `1.0` ตามลำดับ"
   ]
  },
  {
   "cell_type": "code",
   "execution_count": null,
   "metadata": {},
   "outputs": [],
   "source": [
    "def __init__(self):\n",
    "    super().__init__('noise_generator')\n",
    "    if len(sys.argv)>2: \n",
    "        self.rate = float(sys.argv[1])\n",
    "    else:\n",
    "        self.rate = 5.0\n",
    "\n",
    "    self.noise_pub = self.create_publisher(Float64, f'{self.get_namespace()}/noise', 10)\n",
    "    self.timer = self.create_timer(1/self.rate, self.timer_callback)\n",
    "\n",
    "    self.set_noise_service = self.create_service(SetNoise, f'{self.get_namespace()}/set_noise', self.set_noise_callback)\n",
    "\n",
    "    # default mean and variance for linear and angular\n",
    "    self.mean = 0.0\n",
    "    self.variance = 1.0"
   ]
  },
  {
   "cell_type": "markdown",
   "metadata": {},
   "source": [
    "3. ด้านใน Callback ของ Service Server คือการนำค่าที่ Service Client ส่งเข้ามา (Request) โดยค่าเหล่านั้นจะถูกเก็บไว้ในตัวแปร Mean และ Variance"
   ]
  },
  {
   "cell_type": "code",
   "execution_count": null,
   "metadata": {},
   "outputs": [],
   "source": [
    "def set_noise_callback(self,request:SetNoise.Request,response:SetNoise.Response):\n",
    "    self.mean = request.mean.data\n",
    "    self.variance = request.variance.data\n",
    "    return response"
   ]
  },
  {
   "cell_type": "markdown",
   "metadata": {},
   "source": [
    "4. ด้านใน Callback ของ Timer คือการสร้าง Noise โดยใช้ฟังก์ชัน np.random.normal ของ NumPy โดยใช้ค่า Mean และ Standard Deviation (ได้จากการถอดรูทของ Variance) และ Publish ค่า Noise ที่ได้ผ่าน Publisher ที่สร้างไว้\n",
    "\n",
    "    นอกจากนี้ยังมีการ Log String ผ่านฟังก์ชัน `self.get_logger().info()` สำหรับการ Debug"
   ]
  },
  {
   "cell_type": "code",
   "execution_count": null,
   "metadata": {},
   "outputs": [],
   "source": [
    "def timer_callback(self):\n",
    "    noise = Float64()\n",
    "    noise.data = np.random.normal(self.mean,np.sqrt(self.variance))\n",
    "    self.noise_pub.publish(noise)\n",
    "    self.get_logger().info(f'{self.get_namespace()} Mean: {self.mean}, \\nVariance: {self.variance}')"
   ]
  },
  {
   "cell_type": "markdown",
   "metadata": {},
   "source": [
    "5. ใน Main Function จะมีการ Initialize \"rclpy\" Library และสร้าง Node ด้วยตัวแปร \"noiseGen\" และทำการ Spin Node หากมีการกดปุ่ม Interrupt (Ctrl+C) ใน Terminal ที่ใช้งานไฟล์นี้จะทำให้หลุดจากการ Spin Node ซึ่งจะทำให้ Node \"noiseGen\" ถูกทำลายและหยุดทำงาน Executor"
   ]
  },
  {
   "cell_type": "code",
   "execution_count": null,
   "metadata": {},
   "outputs": [],
   "source": [
    "def main(args=None):\n",
    "    rclpy.init(args=args)\n",
    "    noiseGen = NoiseGenerator()\n",
    "    rclpy.spin(noiseGen)\n",
    "    noiseGen.destroy_node()\n",
    "    rclpy.shutdown()"
   ]
  },
  {
   "cell_type": "markdown",
   "metadata": {},
   "source": [
    "<b>NOTE:</b> Condition ด้านล่างมีไว้สำหรับ Execute Code ในบางจุดถ้าไฟล์นี้ถูก Execute โดยตรง"
   ]
  },
  {
   "cell_type": "code",
   "execution_count": null,
   "metadata": {},
   "outputs": [],
   "source": [
    "if __name__=='__main__':\n",
    "    main()"
   ]
  },
  {
   "cell_type": "markdown",
   "metadata": {},
   "source": [
    "<b>การสร้าง Node \"velocity_mux\" ภายใน Python Script \"<a href='../fra333_lab1_29/scripts/velocity_mux.py'>velocity_mux.py</a>\"</b>"
   ]
  },
  {
   "cell_type": "code",
   "execution_count": null,
   "metadata": {},
   "outputs": [],
   "source": [
    "import rclpy\n",
    "from rclpy.node import Node\n",
    "\n",
    "from std_msgs.msg import Float64\n",
    "from geometry_msgs.msg import Twist\n",
    "\n",
    "import sys\n",
    "\n",
    "class VelocityMux(Node):\n",
    "    def __init__(self):\n",
    "        super().__init__('velocity_multiplexer')\n",
    "        if len(sys.argv) > 2:\n",
    "            self.rate = float(sys.argv[1])\n",
    "        else:\n",
    "            self.rate = 5.0\n",
    "\n",
    "        self.linear_sub = self.create_subscription(\n",
    "            Float64,\n",
    "            '/linear/noise',\n",
    "            self.linear_vel_sub_callback,\n",
    "            10)\n",
    "\n",
    "        self.angular_sub = self.create_subscription(\n",
    "            Float64,\n",
    "            '/angular/noise',\n",
    "            self.angular_vel_sub_callback,\n",
    "            10)\n",
    "\n",
    "        self.vel_pub = self.create_publisher(Twist, '/turtle1/cmd_vel', 10)\n",
    "        self.timer = self.create_timer(1/self.rate, self.timer_callback)\n",
    "\n",
    "        self.cmd_vel = Twist()\n",
    "\n",
    "    def linear_vel_sub_callback(self,msg:Float64):\n",
    "        self.cmd_vel.linear.x = msg.data\n",
    "    \n",
    "    def angular_vel_sub_callback(self,msg:Float64):\n",
    "        self.cmd_vel.angular.z = msg.data\n",
    "    \n",
    "    def timer_callback(self):\n",
    "        self.vel_pub.publish(self.cmd_vel)\n",
    "        self.get_logger().info(f'Linear: {self.cmd_vel.linear.x}, Angular: {self.cmd_vel.angular.z}')\n",
    "\n",
    "def main(args=None):\n",
    "    rclpy.init(args=args)\n",
    "    velMux = VelocityMux()\n",
    "    rclpy.spin(velMux)\n",
    "    velMux.destroy_node()\n",
    "    rclpy.shutdown()\n",
    "\n",
    "if __name__=='__main__':\n",
    "    main()"
   ]
  },
  {
   "cell_type": "markdown",
   "metadata": {},
   "source": [
    "<font size=\"3\"><b>พิจารณา Python Script</b></font>\n",
    "1. การ Import Module, Library และ Service ต่าง ๆ ที่ Velocity Multiplexer จะต้องใช้งาน ซึ่งประกอบไปด้วย\n",
    "- ROS Client Library for Python สำหรับใช้งาน Python กับ ROS2"
   ]
  },
  {
   "cell_type": "code",
   "execution_count": null,
   "metadata": {},
   "outputs": [],
   "source": [
    "import rclpy\n",
    "from rclpy.node import Node"
   ]
  },
  {
   "cell_type": "markdown",
   "metadata": {},
   "source": [
    "- Standard Messages ประเภท Float64 สำหรับค่าที่ได้รับมาจาก Service Client จากที่โจทย์กำหนด\n",
    "- Geometry Messages ประเภท Twist สำหรับค่าที่จะถูกส่งออกไปผ่าน Publisher ให้ Node \"turtlesim\""
   ]
  },
  {
   "cell_type": "code",
   "execution_count": null,
   "metadata": {},
   "outputs": [],
   "source": [
    "from std_msgs.msg import Float64\n",
    "from geometry_msgs.msg import Twist"
   ]
  },
  {
   "cell_type": "markdown",
   "metadata": {},
   "source": [
    "- Library \"sys\" สำหรับรับ Arguments จาก Terminal"
   ]
  },
  {
   "cell_type": "code",
   "execution_count": null,
   "metadata": {},
   "outputs": [],
   "source": [
    "import sys"
   ]
  },
  {
   "cell_type": "markdown",
   "metadata": {},
   "source": [
    "2. ในส่วนของ Class \"VelocityMux\" จะมีการ Initialize Node ด้วยชื่อ \"velocity_multiplexer\"\n",
    "\n",
    "    มี Condition สำหรับรับ Argument Rate ที่ User ใส่เข้ามาตอนสั่ง Launch File ผ่าน Terminal (ros2 launch ...) ซึ่งหากไม่มี Argument เข้ามาจะตั้งเป็นค่า Default ซึ่งมีค่าเท่ากับ 5 Hz (5.0)\n",
    "\n",
    "    ในส่วนต่อมาจะเป็นการสร้าง Subscriber, Publisher, Timer และ Initial Condition ของตัวแปร\n",
    "    - Subscriber (`self.linear_sub`, `self.angular_sub`): สร้าง Subscriber ที่มีการรับค่าจาก Publisher ของ Node \"noise_generator\" (<a href='../fra333_lab1_29/scripts/noise_generator.py'>noise_generator.py</a>) ผ่าน Topic ชื่อ \"/noise\" ของ Namespace นั้นๆ หากเป็น Linear ก็จะเป็น \"`/linear/noise`\" และ Angular จะเป็น \"`/angular/noise`\" โดยมี Queue Size (QoS: Quality of Service) อยู่ที่ 10\n",
    "    \n",
    "    - Publisher (`self.vel_pub`): สร้าง Publisher ที่สำหรับส่งค่าออกไปเป็น Twist ผ่าน Topic ที่มีชื่อว่า \"`/turtle1/cmd_vel`\" โดยมี Queue Size (QoS: Quality of Service) อยู่ที่ 10\n",
    "\n",
    "    - Timer (`self.timer`): สร้าง Timer ที่จะเข้าไปทำงานใน Callback (`self.timer_callback`) ทุกๆ `self.rate` ที่กำหนด\n",
    "\n",
    "    สุดท้ายคือประกาศตัวแปรสำหรับเก็บค่าการควบคุมความเร็ว (`self.cmd_vel`) โดยมีประเภทของข้อมูลเป็น Twist สำหรับใช้งานต่อไป\n"
   ]
  },
  {
   "cell_type": "code",
   "execution_count": null,
   "metadata": {},
   "outputs": [],
   "source": [
    "def __init__(self):\n",
    "    super().__init__('velocity_multiplexer')\n",
    "    if len(sys.argv) > 2:\n",
    "        self.rate = float(sys.argv[1])\n",
    "    else:\n",
    "        self.rate = 5.0\n",
    "\n",
    "    self.linear_sub = self.create_subscription(\n",
    "        Float64,\n",
    "        '/linear/noise',\n",
    "        self.linear_vel_sub_callback,\n",
    "        10)\n",
    "\n",
    "    self.angular_sub = self.create_subscription(\n",
    "        Float64,\n",
    "        '/angular/noise',\n",
    "        self.angular_vel_sub_callback,\n",
    "        10)\n",
    "\n",
    "    self.vel_pub = self.create_publisher(Twist, '/turtle1/cmd_vel', 10)\n",
    "    self.timer = self.create_timer(1/self.rate, self.timer_callback)\n",
    "\n",
    "    self.cmd_vel = Twist()"
   ]
  },
  {
   "cell_type": "markdown",
   "metadata": {},
   "source": [
    "3. ด้านใน Callback ของ Subscriber จะเป็นการนำค่าที่ส่งเข้ามาจาก Publisher ของ Node \"noise_generator\" มาไว้ใน Geometry Messages ประเภท Twist ที่จะแบ่งเป็นการควบคุมความเร็วเชิงเส้นในแกน x (`self.cmd_vel.linear.x`) สำหรับเดินขึ้นหน้า และการควบคุมความเร็วเชิงมุมในแกน z (`self.cmd_vel.angular.z`) สำหรับการหมุนใน Plane XY"
   ]
  },
  {
   "cell_type": "code",
   "execution_count": null,
   "metadata": {},
   "outputs": [],
   "source": [
    "def linear_vel_sub_callback(self,msg:Float64):\n",
    "    self.cmd_vel.linear.x = msg.data\n",
    "    \n",
    "def angular_vel_sub_callback(self,msg:Float64):\n",
    "    self.cmd_vel.angular.z = msg.data"
   ]
  },
  {
   "cell_type": "markdown",
   "metadata": {},
   "source": [
    "4. ด้านใน Callback ของ Timer จะเป็นการ Publish ค่าการควบคุมความเร็วผ่าน Publisher ที่ได้สร้างไว้\n",
    "    \n",
    "    นอกจากนี้ยังมีการ Log String ผ่านฟังก์ชัน `self.get_logger().info()` สำหรับการ Debug"
   ]
  },
  {
   "cell_type": "code",
   "execution_count": null,
   "metadata": {},
   "outputs": [],
   "source": [
    "def timer_callback(self):\n",
    "    self.vel_pub.publish(self.cmd_vel)\n",
    "    self.get_logger().info(f'Linear: {self.cmd_vel.linear.x}, Angular: {self.cmd_vel.angular.z}')"
   ]
  },
  {
   "cell_type": "markdown",
   "metadata": {},
   "source": [
    "5. ใน Main Function จะมีการ Initialize \"rclpy\" Library และสร้าง Node ด้วยตัวแปร \"velMux\" และทำการ Spin Node หากมีการกดปุ่ม Interrupt เช่น Ctrl+C ใน Terminal ที่ใช้งานไฟล์นี้จะทำให้หลุดจากการ Spin Node ซึ่งจะทำให้ Node \"velMux\" ถูกทำลายและหยุดทำงาน Executor"
   ]
  },
  {
   "cell_type": "code",
   "execution_count": null,
   "metadata": {},
   "outputs": [],
   "source": [
    "def main(args=None):\n",
    "    rclpy.init(args=args)\n",
    "    velMux = VelocityMux()\n",
    "    rclpy.spin(velMux)\n",
    "    velMux.destroy_node()\n",
    "    rclpy.shutdown()"
   ]
  },
  {
   "cell_type": "markdown",
   "metadata": {},
   "source": [
    "<b>NOTE:</b> Condition ด้านล่างมีไว้สำหรับ Execute Code ในบางจุดถ้าไฟล์นี้ถูก Execute โดยตรง"
   ]
  },
  {
   "cell_type": "code",
   "execution_count": null,
   "metadata": {},
   "outputs": [],
   "source": [
    "if __name__=='__main__':\n",
    "    main()"
   ]
  },
  {
   "cell_type": "markdown",
   "metadata": {},
   "source": [
    "<b>การสร้าง Launch File ด้วย Python \"<a href='../fra333_lab1_29/launch/random_walk.launch.py'>random_walk.launch.py</a>\"</b>"
   ]
  },
  {
   "cell_type": "code",
   "execution_count": null,
   "metadata": {},
   "outputs": [],
   "source": [
    "from launch import LaunchDescription\n",
    "from launch.substitutions import LaunchConfiguration\n",
    "from launch_ros.actions import Node\n",
    "from launch.actions import ExecuteProcess, DeclareLaunchArgument\n",
    "def generate_launch_description():\n",
    "    rate = LaunchConfiguration('rate')\n",
    "    rate_launch_arg = DeclareLaunchArgument('rate',default_value='5.0')\n",
    "    \n",
    "    turtleNode = Node(\n",
    "        package='turtlesim',\n",
    "        executable='turtlesim_node',\n",
    "        parameters=[\n",
    "            {'background_b':0},\n",
    "            {'background_g':0},\n",
    "            {'background_r':0},\n",
    "        ],\n",
    "    )\n",
    "    \n",
    "    linearNode = Node(\n",
    "        package='fra333_lab1_29',\n",
    "        executable='noise_generator.py',\n",
    "        namespace= 'linear',\n",
    "        arguments=[rate],\n",
    "    )\n",
    "    \n",
    "    angularNode = Node(\n",
    "        package='fra333_lab1_29',\n",
    "        executable='noise_generator.py',\n",
    "        namespace= 'angular',\n",
    "        arguments=[rate],\n",
    "    )\n",
    "\n",
    "    velocityMuxNode = Node(\n",
    "        package='fra333_lab1_29',\n",
    "        executable='velocity_mux.py',\n",
    "        arguments=[rate],\n",
    "    )\n",
    "    \n",
    "    linearMean = 1.0\n",
    "    linearVar = 0.1\n",
    "    angularMean = 0.0\n",
    "    angularVar = 3.0\n",
    "\n",
    "    srv_linear_noise = ExecuteProcess(\n",
    "        cmd=[[\n",
    "            f'ros2 service call /linear/set_noise lab1_interfaces/srv/SetNoise \"{{mean: {{data: {linearMean}}}, variance: {{data: {linearVar}}}}}\"'\n",
    "        ]],\n",
    "        shell=True\n",
    "    )\n",
    "    srv_angular_noise = ExecuteProcess(\n",
    "        cmd=[[\n",
    "            f'ros2 service call /angular/set_noise lab1_interfaces/srv/SetNoise \"{{mean: {{data: {angularMean}}}, variance: {{data: {angularVar}}}}}\"'\n",
    "        ]],\n",
    "        shell=True\n",
    "    )\n",
    "    \n",
    "    processToRun = [rate_launch_arg, turtleNode, linearNode, angularNode, velocityMuxNode, srv_linear_noise, srv_angular_noise]\n",
    "    return LaunchDescription(processToRun)"
   ]
  },
  {
   "cell_type": "markdown",
   "metadata": {},
   "source": [
    "<font size=\"3\"><b>พิจารณา Python Launch Script</b></font>\n",
    "<br>\n",
    "\n",
    "การ Import Module ต่าง ๆ ที่ Velocity Multiplexer จะต้องใช้งาน ซึ่งประกอบไปด้วย\n",
    "- `LaunchDescription` จาก Library \"launch\" สำหรับสร้าง Launch File\n",
    "- `LaunchConfiguration` จาก Library \"launch.substitutions\" สำหรับการกำหนด Arguments ที่ต้องการจะใช้ใน Launch File\n",
    "- `Node` จาก Library \"launch_ros.actions\" สำหรับสร้าง Node\n",
    "- `ExecuteProcess` จาก Library \"launch.actions\" สำหรับใช้งานคำสั่งของ Terminal หรือ Executables ต่าง ๆ\n",
    "- `DeclareLaunchArgument` จาก Library \"launch.actions\" สำหรับการกำหนด Arguments ที่ถูกส่งมาจาก Terminal"
   ]
  },
  {
   "cell_type": "code",
   "execution_count": null,
   "metadata": {},
   "outputs": [],
   "source": [
    "from launch import LaunchDescription\n",
    "from launch.substitutions import LaunchConfiguration\n",
    "from launch_ros.actions import Node\n",
    "from launch.actions import ExecuteProcess, DeclareLaunchArgument"
   ]
  },
  {
   "cell_type": "markdown",
   "metadata": {},
   "source": [
    "<b>ด้านในฟังก์ชัน `generate_launch_description()`</b>\n",
    "\n",
    "<u>การสร้างตัวรับ Argument</u>\n",
    "\n",
    "&emsp;เริ่มจากการสร้าง Argument ชื่อ \"rate\" ที่มีค่า Default เป็น `5.0`"
   ]
  },
  {
   "cell_type": "code",
   "execution_count": null,
   "metadata": {},
   "outputs": [],
   "source": [
    "rate = LaunchConfiguration('rate')\n",
    "rate_launch_arg = DeclareLaunchArgument('rate',default_value='5.0')"
   ]
  },
  {
   "cell_type": "markdown",
   "metadata": {},
   "source": [
    "<u>การสร้าง Node</u>\n",
    "\n",
    "1. Node ตัวแรกคือ \"turtlesim\" โดยมีพื้นหลังเป็นสีดำ"
   ]
  },
  {
   "cell_type": "code",
   "execution_count": null,
   "metadata": {},
   "outputs": [],
   "source": [
    "turtleNode = Node(\n",
    "    package='turtlesim',\n",
    "    executable='turtlesim_node',\n",
    "    parameters=[\n",
    "        {'background_b':0},\n",
    "        {'background_g':0},\n",
    "        {'background_r':0},\n",
    "    ],\n",
    ")"
   ]
  },
  {
   "cell_type": "markdown",
   "metadata": {},
   "source": [
    "2. Node ตัวต่อมาคือ \"noise_generator\" โดยมี Namespace เป็น Linear และมีการรับค่า Rate เข้าไปด้วย"
   ]
  },
  {
   "cell_type": "code",
   "execution_count": null,
   "metadata": {},
   "outputs": [],
   "source": [
    "linearNode = Node(\n",
    "    package='fra333_lab1_29',\n",
    "    executable='noise_generator.py',\n",
    "    namespace= 'linear',\n",
    "    arguments=[rate],\n",
    ")"
   ]
  },
  {
   "cell_type": "markdown",
   "metadata": {},
   "source": [
    "3. Node ตัวต่อมาคือ \"noise_generator\" โดยมี Namespace เป็น Angular และมีการรับค่า Rate เข้าไปด้วย"
   ]
  },
  {
   "cell_type": "code",
   "execution_count": null,
   "metadata": {},
   "outputs": [],
   "source": [
    "angularNode = Node(\n",
    "    package='fra333_lab1_29',\n",
    "    executable='noise_generator.py',\n",
    "    namespace= 'angular',\n",
    "    arguments=[rate],\n",
    ")"
   ]
  },
  {
   "cell_type": "markdown",
   "metadata": {},
   "source": [
    "4. Node ตัวต่อมาคือ \"velocity_mux\" โดยมีการรับค่า Rate เข้าไป"
   ]
  },
  {
   "cell_type": "code",
   "execution_count": null,
   "metadata": {},
   "outputs": [],
   "source": [
    "velocityMuxNode = Node(\n",
    "    package='fra333_lab1_29',\n",
    "    executable='velocity_mux.py',\n",
    "    arguments=[rate],\n",
    ")"
   ]
  },
  {
   "cell_type": "markdown",
   "metadata": {},
   "source": [
    "<u>การเปลี่ยนค่า Mean และ Variance ของ Noise ใน Linear Noise Generator และ Angular Noise Generator ผ่าน Launch File</u>\n",
    "\n",
    "&emsp;สร้างตัวแปรสำหรับ Mean และ Variance สำหรับ Linear และ Angular Noise"
   ]
  },
  {
   "cell_type": "code",
   "execution_count": null,
   "metadata": {},
   "outputs": [],
   "source": [
    "linearMean = 1.0\n",
    "linearVar = 0.1\n",
    "angularMean = 0.0\n",
    "angularVar = 3.0"
   ]
  },
  {
   "cell_type": "markdown",
   "metadata": {},
   "source": [
    "- การใช้งาน Service โดยปกติแล้วจะเป็นการใช้คำสั่ง `ros2 service call ...` ผ่าน Terminal แต่เนื่องจากเราต้องการที่จะใช้งานคำสั่งดังกล่าวภายใน Launch File จึงต้องมีการใช้งาน `ExecuteProcess` โดยสามารถเขียนออกมาได้ดังนี้"
   ]
  },
  {
   "cell_type": "code",
   "execution_count": null,
   "metadata": {},
   "outputs": [],
   "source": [
    "srv_linear_noise = ExecuteProcess(\n",
    "    cmd=[[\n",
    "        f'ros2 service call /linear/set_noise lab1_interfaces/srv/SetNoise \"{{mean: {{data: {linearMean}}}, variance: {{data: {linearVar}}}}}\"'\n",
    "    ]],\n",
    "    shell=True\n",
    ")\n",
    "srv_angular_noise = ExecuteProcess(\n",
    "    cmd=[[\n",
    "        f'ros2 service call /angular/set_noise lab1_interfaces/srv/SetNoise \"{{mean: {{data: {angularMean}}}, variance: {{data: {angularVar}}}}}\"'\n",
    "    ]],\n",
    "    shell=True\n",
    ")"
   ]
  },
  {
   "cell_type": "markdown",
   "metadata": {},
   "source": [
    "<u>การใส่ค่า Mean และ Variance ใน Code ด้านบน</u>\n",
    "\n",
    "&emsp;เนื่องจาก Structure ของข้อมูลภายใน Service <a href='../lab1_interfaces/srv/SetNoise.srv'>SetNoise.srv</a> มีหน้าตาดังรูป\n",
    "\n",
    "<img src='pic/float64_struct.jpg'><center>รูปที่ 2 Structure ของข้อมูล Float64 ในระบบ Noise Generator</center></img>\n",
    "\n",
    "&emsp;และ Structure ของข้อมูลดังกล่าวเป็น Dictionary ใน Python ซึ่งหากเขียนออกมาแบบแยกบรรทัดจะสามารถเขียนได้ดังนี้"
   ]
  },
  {
   "cell_type": "code",
   "execution_count": null,
   "metadata": {},
   "outputs": [],
   "source": [
    "{mean: \n",
    "    {data: linearMean}, \n",
    "variance:\n",
    "    {data: linearVar}}"
   ]
  },
  {
   "cell_type": "markdown",
   "metadata": {},
   "source": [
    "<u>การใช้ประกาศใช้งาน Launch</u>\n",
    "\n",
    "&emsp;หลังจากที่เขียน LaunchConfiguration, Node และ ExecuteProcess เสร็จเรียบร้อยให้นำทุกอย่างมาใส่เข้าไปใน LaunchDescription เพื่อให้ Launch File สามารถสร้าง Process ทั้งหมดได้"
   ]
  },
  {
   "cell_type": "code",
   "execution_count": null,
   "metadata": {},
   "outputs": [],
   "source": [
    "processToRun = [rate_launch_arg, turtleNode, linearNode, angularNode, velocityMuxNode, srv_linear_noise, srv_angular_noise]\n",
    "return LaunchDescription(processToRun)"
   ]
  },
  {
   "cell_type": "markdown",
   "metadata": {},
   "source": [
    "<font size=5><b>System Architecture ของระบบที่ทำได้</b></font>\n",
    "\n",
    "<img src='pic/sysarchi.jpg'><center>รูปที่ 3 System Architecture ของระบบที่ทำได้</center></img>\n",
    "\n",
    "<font size=5><b>Computation Graph ของระบบที่ทำได้</b></font>\n",
    "\n",
    "หลังจากที่สั่ง `ros2 launch ...` เรียบร้อยแล้ว ได้ทำการสร้าง Computation Graph ด้วย `rqt_graph` โดยออกมาเป็นรูปดังนี้\n",
    "\n",
    "<img src='pic/LAB1_rqtgraph.png'><center>รูปที่ 4 Computation Graph ของระบบที่ทำได้</center></img>"
   ]
  }
 ],
 "metadata": {
  "kernelspec": {
   "display_name": "Python 3.8.10 64-bit",
   "language": "python",
   "name": "python3"
  },
  "language_info": {
   "codemirror_mode": {
    "name": "ipython",
    "version": 3
   },
   "file_extension": ".py",
   "mimetype": "text/x-python",
   "name": "python",
   "nbconvert_exporter": "python",
   "pygments_lexer": "ipython3",
   "version": "3.8.10"
  },
  "orig_nbformat": 4,
  "vscode": {
   "interpreter": {
    "hash": "916dbcbb3f70747c44a77c7bcd40155683ae19c65e1c03b4aa3499c5328201f1"
   }
  }
 },
 "nbformat": 4,
 "nbformat_minor": 2
}
