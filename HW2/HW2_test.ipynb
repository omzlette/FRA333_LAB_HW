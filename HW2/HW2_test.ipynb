{
 "cells": [
  {
   "cell_type": "code",
   "execution_count": 3,
   "metadata": {},
   "outputs": [
    {
     "name": "stdout",
     "output_type": "stream",
     "text": [
      "[[0.00000000e+00 1.22464685e-16 1.22464685e-16]\n",
      " [0.00000000e+00 1.00000000e+00 1.00000000e+00]\n",
      " [1.00000000e+00 6.12323426e-17 6.12323426e-17]]\n",
      "\n",
      "\n",
      "[[-1.09000000e-01 -9.30000000e-02 -9.30000000e-02]\n",
      " [ 8.99430000e-01  6.64634217e-17  4.04396760e-17]\n",
      " [ 0.00000000e+00 -8.99430000e-01 -4.74430000e-01]]\n",
      "\n",
      "\n",
      "[[ 0.00000000e+00  1.22464685e-16  1.22464685e-16]\n",
      " [ 0.00000000e+00  1.00000000e+00  1.00000000e+00]\n",
      " [ 1.00000000e+00  6.12323426e-17  6.12323426e-17]\n",
      " [-1.09000000e-01 -9.30000000e-02 -9.30000000e-02]\n",
      " [ 8.99430000e-01  6.64634217e-17  4.04396760e-17]\n",
      " [ 0.00000000e+00 -8.99430000e-01 -4.74430000e-01]]\n"
     ]
    }
   ],
   "source": [
    "from HW2_utils import FKHW2\n",
    "import numpy as np\n",
    "\n",
    "q = [0,0,0]\n",
    "R,P,R_e,p_e = FKHW2(q)\n",
    "\n",
    "R1 = (R[:,:,0])\n",
    "R2 = (R[:,:,1])\n",
    "R3 = (R[:,:,2])\n",
    "rotateZ = np.array([0,0,1]).reshape(3,1)\n",
    "\n",
    "angularJ01 = np.matmul(R1,rotateZ)\n",
    "angularJ02 = np.matmul(R2,rotateZ)\n",
    "angularJ03 = np.matmul(R3,rotateZ)\n",
    "\n",
    "angularJacobian = np.concatenate((angularJ01,angularJ02,angularJ03),axis = 1)\n",
    "\n",
    "# print(R1)\n",
    "# print(\"\\n\")\n",
    "# print(rotateZ)\n",
    "# print(\"\\n\")\n",
    "# print(angularJ01)\n",
    "# print(angularJ02)\n",
    "# print(angularJ03)\n",
    "# print(\"\\n\")\n",
    "# print(angularJacobian)\n",
    "# print(\"\\n\")\n",
    "\n",
    "velocityJ01 = np.cross(angularJ01.reshape(1,3),(p_e-P[:,0])).reshape(3,1)\n",
    "velocityJ02 = np.cross(angularJ02.reshape(1,3),(p_e-P[:,1])).reshape(3,1)\n",
    "velocityJ03 = np.cross(angularJ03.reshape(1,3),(p_e-P[:,2])).reshape(3,1)\n",
    "\n",
    "velocityJacobian = np.concatenate((velocityJ01,velocityJ02,velocityJ03),axis = 1)\n",
    "\n",
    "an = np.concatenate((angularJacobian,velocityJacobian),axis = 0)\n",
    "\n",
    "print(angularJacobian)\n",
    "print(\"\\n\")\n",
    "print(velocityJacobian)\n",
    "print(\"\\n\")\n",
    "print(np.array([angularJacobian,velocityJacobian]).reshape(6,3))\n"
   ]
  },
  {
   "cell_type": "code",
   "execution_count": 5,
   "metadata": {},
   "outputs": [
    {
     "name": "stdout",
     "output_type": "stream",
     "text": [
      "0.0\n",
      "[[-1.09000000e-01 -9.30000000e-02 -9.30000000e-02]\n",
      " [ 8.99430000e-01  6.64634217e-17  4.04396760e-17]\n",
      " [ 0.00000000e+00 -8.99430000e-01 -4.74430000e-01]]\n"
     ]
    }
   ],
   "source": [
    "import numpy as np\n",
    "print(np.linalg.det([[4,4],[4,4]]))\n",
    "endJacob = an[3:6,:]\n",
    "print(endJacob)"
   ]
  },
  {
   "cell_type": "code",
   "execution_count": 3,
   "metadata": {},
   "outputs": [
    {
     "name": "stdout",
     "output_type": "stream",
     "text": [
      "[[2 3 1]\n",
      " [3 2 3]\n",
      " [3 2 0]]\n"
     ]
    },
    {
     "data": {
      "text/plain": [
       "(3, 3, 4)"
      ]
     },
     "execution_count": 3,
     "metadata": {},
     "output_type": "execute_result"
    }
   ],
   "source": [
    "import numpy as np\n",
    "\n",
    "test334 = np.array([[[1,2,3,4],[4,3,2,1],[1,1,1,1]],\n",
    "                    [[2,3,2,3],[2,2,2,2],[3,3,3,3]],\n",
    "                    [[4,3,4,3],[1,2,1,2],[0,0,0,0]]])\n",
    "\n",
    "print(test334[:,:,1])\n",
    "np.shape(test334)"
   ]
  },
  {
   "cell_type": "code",
   "execution_count": 10,
   "metadata": {},
   "outputs": [
    {
     "name": "stdout",
     "output_type": "stream",
     "text": [
      "[1. 1. 1. 1. 1. 1.]\n",
      "[1 1 1 1 1 1]\n"
     ]
    },
    {
     "ename": "AttributeError",
     "evalue": "'list' object has no attribute 'T'",
     "output_type": "error",
     "traceback": [
      "\u001b[0;31m---------------------------------------------------------------------------\u001b[0m",
      "\u001b[0;31mAttributeError\u001b[0m                            Traceback (most recent call last)",
      "Cell \u001b[0;32mIn [10], line 25\u001b[0m\n\u001b[1;32m     23\u001b[0m \u001b[39m# print(wtest)\u001b[39;00m\n\u001b[1;32m     24\u001b[0m \u001b[39mprint\u001b[39m(wt)\n\u001b[0;32m---> 25\u001b[0m \u001b[39mprint\u001b[39m(w\u001b[39m.\u001b[39;49mT)\n",
      "\u001b[0;31mAttributeError\u001b[0m: 'list' object has no attribute 'T'"
     ]
    }
   ],
   "source": [
    "from HW2_utils import FKHW2\n",
    "import numpy as np\n",
    "\n",
    "q = [0,0,0]\n",
    "w = [1,1,1,1,1,1]\n",
    "\n",
    "R, P, R_e, p_e = FKHW2(q)\n",
    "# R1, R2, R3 = R[:,:,0], R[:,:,1], R[:,:,2]\n",
    "# P1, P2, P3 = P[:,0], P[:,1], P[:,2]\n",
    "# rotateZ = np.array([0,0,1]).reshape(3,1)\n",
    "# angularJ01 = R1 @ rotateZ\n",
    "# angularJ02 = R2 @ rotateZ\n",
    "# angularJ03 = R3 @ rotateZ\n",
    "# angularJacobian = np.concatenate((angularJ01,angularJ02,angularJ03), axis = 1)\n",
    "\n",
    "wt = np.transpose(w)\n",
    "N0e = np.matmul(R_e,wt[0:3])\n",
    "F0e = np.matmul(R_e,wt[3:6])\n",
    "W0e = np.concatenate((N0e,F0e), axis = 0)\n",
    "\n",
    "# wtest = R_e @ wt\n",
    "print(W0e)\n",
    "# print(wtest)\n",
    "print(wt)\n",
    "print(w.T)"
   ]
  }
 ],
 "metadata": {
  "kernelspec": {
   "display_name": "Python 3.8.10 64-bit",
   "language": "python",
   "name": "python3"
  },
  "language_info": {
   "codemirror_mode": {
    "name": "ipython",
    "version": 3
   },
   "file_extension": ".py",
   "mimetype": "text/x-python",
   "name": "python",
   "nbconvert_exporter": "python",
   "pygments_lexer": "ipython3",
   "version": "3.8.10"
  },
  "orig_nbformat": 4,
  "vscode": {
   "interpreter": {
    "hash": "916dbcbb3f70747c44a77c7bcd40155683ae19c65e1c03b4aa3499c5328201f1"
   }
  }
 },
 "nbformat": 4,
 "nbformat_minor": 2
}
