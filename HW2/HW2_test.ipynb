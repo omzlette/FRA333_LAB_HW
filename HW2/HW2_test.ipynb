{
 "cells": [
  {
   "cell_type": "code",
   "execution_count": 3,
   "metadata": {},
   "outputs": [
    {
     "name": "stdout",
     "output_type": "stream",
     "text": [
      "[[0.00000000e+00 1.22464685e-16 1.22464685e-16]\n",
      " [0.00000000e+00 1.00000000e+00 1.00000000e+00]\n",
      " [1.00000000e+00 6.12323426e-17 6.12323426e-17]]\n",
      "\n",
      "\n",
      "[[-1.09000000e-01 -9.30000000e-02 -9.30000000e-02]\n",
      " [ 8.99430000e-01  6.64634217e-17  4.04396760e-17]\n",
      " [ 0.00000000e+00 -8.99430000e-01 -4.74430000e-01]]\n",
      "\n",
      "\n",
      "[[ 0.00000000e+00  1.22464685e-16  1.22464685e-16]\n",
      " [ 0.00000000e+00  1.00000000e+00  1.00000000e+00]\n",
      " [ 1.00000000e+00  6.12323426e-17  6.12323426e-17]\n",
      " [-1.09000000e-01 -9.30000000e-02 -9.30000000e-02]\n",
      " [ 8.99430000e-01  6.64634217e-17  4.04396760e-17]\n",
      " [ 0.00000000e+00 -8.99430000e-01 -4.74430000e-01]]\n"
     ]
    }
   ],
   "source": [
    "from HW2_utils import FKHW2\n",
    "import numpy as np\n",
    "\n",
    "q = [0,0,0]\n",
    "R,P,R_e,p_e = FKHW2(q)\n",
    "\n",
    "R1 = (R[:,:,0])\n",
    "R2 = (R[:,:,1])\n",
    "R3 = (R[:,:,2])\n",
    "rotateZ = np.array([0,0,1]).reshape(3,1)\n",
    "\n",
    "angularJ01 = np.matmul(R1,rotateZ)\n",
    "angularJ02 = np.matmul(R2,rotateZ)\n",
    "angularJ03 = np.matmul(R3,rotateZ)\n",
    "\n",
    "angularJacobian = np.concatenate((angularJ01,angularJ02,angularJ03),axis = 1)\n",
    "\n",
    "# print(R1)\n",
    "# print(\"\\n\")\n",
    "# print(rotateZ)\n",
    "# print(\"\\n\")\n",
    "# print(angularJ01)\n",
    "# print(angularJ02)\n",
    "# print(angularJ03)\n",
    "# print(\"\\n\")\n",
    "# print(angularJacobian)\n",
    "# print(\"\\n\")\n",
    "\n",
    "velocityJ01 = np.cross(angularJ01.reshape(1,3),(p_e-P[:,0])).reshape(3,1)\n",
    "velocityJ02 = np.cross(angularJ02.reshape(1,3),(p_e-P[:,1])).reshape(3,1)\n",
    "velocityJ03 = np.cross(angularJ03.reshape(1,3),(p_e-P[:,2])).reshape(3,1)\n",
    "\n",
    "velocityJacobian = np.concatenate((velocityJ01,velocityJ02,velocityJ03),axis = 1)\n",
    "\n",
    "an = np.concatenate((angularJacobian,velocityJacobian),axis = 0)\n",
    "\n",
    "print(angularJacobian)\n",
    "print(\"\\n\")\n",
    "print(velocityJacobian)\n",
    "print(\"\\n\")\n",
    "print(np.array([angularJacobian,velocityJacobian]).reshape(6,3))\n"
   ]
  },
  {
   "cell_type": "code",
   "execution_count": 5,
   "metadata": {},
   "outputs": [
    {
     "name": "stdout",
     "output_type": "stream",
     "text": [
      "0.0\n",
      "[[-1.09000000e-01 -9.30000000e-02 -9.30000000e-02]\n",
      " [ 8.99430000e-01  6.64634217e-17  4.04396760e-17]\n",
      " [ 0.00000000e+00 -8.99430000e-01 -4.74430000e-01]]\n"
     ]
    }
   ],
   "source": [
    "import numpy as np\n",
    "print(np.linalg.det([[4,4],[4,4]]))\n",
    "endJacob = an[3:6,:]\n",
    "print(endJacob)"
   ]
  }
 ],
 "metadata": {
  "kernelspec": {
   "display_name": "Python 3.9.13 64-bit (microsoft store)",
   "language": "python",
   "name": "python3"
  },
  "language_info": {
   "codemirror_mode": {
    "name": "ipython",
    "version": 3
   },
   "file_extension": ".py",
   "mimetype": "text/x-python",
   "name": "python",
   "nbconvert_exporter": "python",
   "pygments_lexer": "ipython3",
   "version": "3.9.13"
  },
  "orig_nbformat": 4,
  "vscode": {
   "interpreter": {
    "hash": "df122b9f9a9d9510327ccd2e8dadfceea3e9547195b79c25eecd2b3cd67ac7c3"
   }
  }
 },
 "nbformat": 4,
 "nbformat_minor": 2
}
