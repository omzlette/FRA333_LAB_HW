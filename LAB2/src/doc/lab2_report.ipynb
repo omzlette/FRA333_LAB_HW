{
 "cells": [
  {
   "cell_type": "markdown",
   "metadata": {},
   "source": [
    "<font size=7><b>Lab 2 Report (Group 29)</b></font>\n",
    "\n",
    "<u>รายชื่อสมาชิกในกลุ่ม:</u>\n",
    "- นายธนัช ธรนิศตระกูล 63340500025\n",
    "- นายสิรวิชญ์ ลั้วสมบูรณ์ 63340500066\n",
    "\n",
    "<hr>\n",
    "\n",
    "<font size=5><b>ขั้นตอนการลงมือทำ</b></font><br>"
   ]
  }
 ],
 "metadata": {
  "kernelspec": {
   "display_name": "Python 3.9.6 64-bit",
   "language": "python",
   "name": "python3"
  },
  "language_info": {
   "codemirror_mode": {
    "name": "ipython",
    "version": 3
   },
   "file_extension": ".py",
   "mimetype": "text/x-python",
   "name": "python",
   "nbconvert_exporter": "python",
   "pygments_lexer": "ipython3",
   "version": "3.9.6"
  },
  "orig_nbformat": 4,
  "vscode": {
   "interpreter": {
    "hash": "ba095db9d01d28241af53af9eb2be45c772ec723663bd1f6960abc97b5a06db1"
   }
  }
 },
 "nbformat": 4,
 "nbformat_minor": 2
}
