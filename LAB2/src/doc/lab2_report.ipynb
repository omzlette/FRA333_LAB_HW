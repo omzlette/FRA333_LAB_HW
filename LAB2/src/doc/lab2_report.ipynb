{
 "cells": [
  {
   "cell_type": "markdown",
   "metadata": {},
   "source": [
    "# **<font size=7>Lab 2 Report (Group 29)</font>**\n",
    "\n",
    "<u>รายชื่อสมาชิกในกลุ่ม:</u>\n",
    "- นายธนัช ธรนิศตระกูล 63340500025\n",
    "- นายสิรวิชญ์ ลั้วสมบูรณ์ 63340500066\n",
    "\n",
    "<hr>"
   ]
  },
  {
   "cell_type": "markdown",
   "metadata": {},
   "source": [
    "## **<font size=6>ขั้นตอนการลงมือทำ</font>**\n",
    "\n",
    "<u>**<font size=4>การแสดงผลแบบจำลองของหุ่นยนต์ใน \"rviz2\"**</font></u>\n",
    "\n",
    "ภายใน package \"sandevistan_description\"\n",
    "\n",
    "**NOTE**: Folder \"meshes\" จะมีไฟล์ mesh (.stl) สำหรับการสร้างแบบจำลองของหุ่นยนต์\n",
    "    \n",
    "1. เขียนไฟล์ URDF ชื่อ \"sandevistan.urdf\" และนำไปไว้ที่ Folder \"sandevistan_description/robot\" โดยด้านในไฟล์จะมีเขียนดังนี้:\n"
   ]
  },
  {
   "cell_type": "markdown",
   "metadata": {},
   "source": [
    "1.1 กำหนด Version, Text Encoder และตั้งชื่อหุ่นยนต์\n"
   ]
  },
  {
   "cell_type": "code",
   "execution_count": null,
   "metadata": {
    "vscode": {
     "languageId": "xml"
    }
   },
   "outputs": [],
   "source": [
    "<?xml version='1.0' encoding='utf-8'?>\n",
    "<robot name=\"sandevistan\">"
   ]
  },
  {
   "cell_type": "markdown",
   "metadata": {},
   "source": [
    "1.2 สร้างสีสำหรับหุ่นยนต์\n"
   ]
  },
  {
   "cell_type": "code",
   "execution_count": null,
   "metadata": {
    "vscode": {
     "languageId": "xml"
    }
   },
   "outputs": [],
   "source": [
    "<material name=\"Grey\">\n",
    "<color rgba=\"0.2 0.2 0.2 1.0\"/>\n",
    "</material>\n",
    "\n",
    "<material name=\"White\">\n",
    "<color rgba=\"1.0 1.0 1.0 1.0\"/>\n",
    "</material>\n",
    "\n",
    "<material name=\"Pink\">\n",
    "<color rgba=\"1.0 0.85 0.92 1.0\"/>\n",
    "</material>"
   ]
  },
  {
   "cell_type": "markdown",
   "metadata": {},
   "source": [
    "\n",
    "1.3 สร้าง Link สำหรับหุ่นยนต์ และใส่ Mesh และ Material ให้กับ Link ที่สร้าง พร้อมทั้งกำหนดตำแหน่งของ Link เป็นตำแหน่ง (x, y, z) = (0, 0, 0)\n"
   ]
  },
  {
   "cell_type": "markdown",
   "metadata": {},
   "source": [
    "- Base Link\n"
   ]
  },
  {
   "cell_type": "code",
   "execution_count": null,
   "metadata": {
    "vscode": {
     "languageId": "xml"
    }
   },
   "outputs": [],
   "source": [
    "<link name=\"base_link\">\n",
    "</link>"
   ]
  },
  {
   "cell_type": "markdown",
   "metadata": {},
   "source": [
    "- Link 0\n"
   ]
  },
  {
   "cell_type": "code",
   "execution_count": null,
   "metadata": {
    "vscode": {
     "languageId": "xml"
    }
   },
   "outputs": [],
   "source": [
    "<link name=\"link_0\">\n",
    "    <visual>\n",
    "        <origin xyz=\"0 0 0\" rpy=\"0 0 0\" />\n",
    "        <geometry>\n",
    "            <mesh filename=\"package://sandevistan_description/meshes/link_0.STL\" />\n",
    "        </geometry>\n",
    "        <material name=\"Grey\"/>\n",
    "    </visual>\n",
    "</link>"
   ]
  },
  {
   "cell_type": "markdown",
   "metadata": {},
   "source": [
    "- Link 1"
   ]
  },
  {
   "cell_type": "code",
   "execution_count": null,
   "metadata": {
    "vscode": {
     "languageId": "xml"
    }
   },
   "outputs": [],
   "source": [
    "<link name=\"link_1\">\n",
    "    <visual>\n",
    "        <origin xyz=\"0 0 0\" rpy=\"0 0 0\" />\n",
    "        <geometry>\n",
    "            <mesh filename=\"package://sandevistan_description/meshes/link_1.STL\" />\n",
    "        </geometry>\n",
    "        <material name=\"White\"/>\n",
    "    </visual>\n",
    "</link>"
   ]
  },
  {
   "cell_type": "markdown",
   "metadata": {},
   "source": [
    "- Link 2"
   ]
  },
  {
   "cell_type": "code",
   "execution_count": null,
   "metadata": {
    "vscode": {
     "languageId": "xml"
    }
   },
   "outputs": [],
   "source": [
    "<link name=\"link_2\">\n",
    "    <visual>\n",
    "        <origin xyz=\"0 0 0\" rpy=\"0 0 0\" />\n",
    "        <geometry>\n",
    "            <mesh filename=\"package://sandevistan_description/meshes/link_2.STL\" />\n",
    "        </geometry>\n",
    "        <material name=\"Grey\"/>\n",
    "    </visual>\n",
    "</link>"
   ]
  },
  {
   "cell_type": "markdown",
   "metadata": {},
   "source": [
    "- Link 3"
   ]
  },
  {
   "cell_type": "code",
   "execution_count": null,
   "metadata": {
    "vscode": {
     "languageId": "xml"
    }
   },
   "outputs": [],
   "source": [
    "<link name=\"link_3\">\n",
    "    <visual>\n",
    "        <origin xyz=\"0 0 0\" rpy=\"0 0 0\" />\n",
    "        <geometry>\n",
    "            <mesh filename=\"package://sandevistan_description/meshes/link_3.STL\" />\n",
    "        </geometry>\n",
    "        <material name=\"White\"/>\n",
    "    </visual>\n",
    "</link>"
   ]
  },
  {
   "cell_type": "markdown",
   "metadata": {},
   "source": [
    "- Link 4"
   ]
  },
  {
   "cell_type": "code",
   "execution_count": null,
   "metadata": {
    "vscode": {
     "languageId": "xml"
    }
   },
   "outputs": [],
   "source": [
    "<link name=\"link_4\">\n",
    "    <visual>\n",
    "        <origin xyz=\"0 0 0\" rpy=\"0 0 0\" />\n",
    "        <geometry>\n",
    "            <mesh filename=\"package://sandevistan_description/meshes/link_4.STL\" />\n",
    "        </geometry>\n",
    "        <material name=\"Pink\"/>\n",
    "    </visual>\n",
    "</link>"
   ]
  },
  {
   "cell_type": "markdown",
   "metadata": {},
   "source": [
    "- End Effector"
   ]
  },
  {
   "cell_type": "code",
   "execution_count": null,
   "metadata": {
    "vscode": {
     "languageId": "xml"
    }
   },
   "outputs": [],
   "source": [
    "<link name=\"end_effector\">\n",
    "</link>"
   ]
  },
  {
   "cell_type": "markdown",
   "metadata": {},
   "source": [
    "\n",
    "1.4 สร้าง Joint สำหรับหุ่นยนต์ และกำหนดตำแหน่งของ Joint และค่าของ Joint ที่ต้องการ  \n",
    "**NOTE**: ในการเขียน Revolute & Prismatic Joint จะต้องกำหนด Limit ด้วยเพื่อไม่ให้เกิด Error ในการทำงาน\n"
   ]
  },
  {
   "cell_type": "markdown",
   "metadata": {},
   "source": [
    "- Joint at Base and Link 0 (Fixed)\n"
   ]
  },
  {
   "cell_type": "code",
   "execution_count": null,
   "metadata": {
    "vscode": {
     "languageId": "xml"
    }
   },
   "outputs": [],
   "source": [
    "<joint name=\"joint_base_0\" type=\"fixed\">\n",
    "    <parent link=\"base_link\"/>\n",
    "    <child link=\"link_0\"/>\n",
    "    <origin xyz=\"0 0 0\" rpy=\"0 0 0\"/>\n",
    "    <axis xyz=\"0 0 0\"/>\n",
    "</joint>"
   ]
  },
  {
   "cell_type": "markdown",
   "metadata": {},
   "source": [
    "- Joint at Link 0 and Link 1 (Revolute)"
   ]
  },
  {
   "cell_type": "code",
   "execution_count": null,
   "metadata": {
    "vscode": {
     "languageId": "xml"
    }
   },
   "outputs": [],
   "source": [
    "<joint name=\"joint_0_1\" type=\"revolute\">\n",
    "    <parent link=\"link_0\"/>\n",
    "    <child link=\"link_1\"/>\n",
    "    <origin xyz=\"0 0 0.4\" rpy=\"0 0 -1.57\"/>\n",
    "    <axis xyz=\"0 0 1\"/>\n",
    "    <limit lower=\"-3.14\" upper=\"3.14\" effort=\"0.5\" velocity=\"0.5\"/>\n",
    "</joint>"
   ]
  },
  {
   "cell_type": "markdown",
   "metadata": {},
   "source": [
    "- Joint at Link 1 and Link 2 (Revolute)"
   ]
  },
  {
   "cell_type": "code",
   "execution_count": null,
   "metadata": {
    "vscode": {
     "languageId": "xml"
    }
   },
   "outputs": [],
   "source": [
    "<joint name=\"joint_1_2\" type=\"revolute\">\n",
    "    <parent link=\"link_1\"/>\n",
    "    <child link=\"link_2\"/>\n",
    "    <origin xyz=\"0 0 0\" rpy=\"-1.57 -1.57 0\"/>\n",
    "    <axis xyz=\"0 0 1\"/>\n",
    "    <limit lower=\"-3.14\" upper=\"3.14\" effort=\"0.5\" velocity=\"0.5\"/>\n",
    "</joint>"
   ]
  },
  {
   "cell_type": "markdown",
   "metadata": {},
   "source": [
    "- Joint at Link 2 and Link 3 (Revolute)"
   ]
  },
  {
   "cell_type": "code",
   "execution_count": null,
   "metadata": {
    "vscode": {
     "languageId": "xml"
    }
   },
   "outputs": [],
   "source": [
    "<joint name=\"joint_2_3\" type=\"revolute\">\n",
    "    <parent link=\"link_2\"/>\n",
    "    <child link=\"link_3\"/>\n",
    "    <origin xyz=\"0 -0.15 0\" rpy=\"1.57 0 0\"/>\n",
    "    <axis xyz=\"0 0 1\"/>\n",
    "    <limit lower=\"-3.14\" upper=\"3.14\" effort=\"0.5\" velocity=\"0.5\"/>\n",
    "</joint>"
   ]
  },
  {
   "cell_type": "markdown",
   "metadata": {},
   "source": [
    "- Joint at Link 3 and Link 4 (Prismatic)"
   ]
  },
  {
   "cell_type": "code",
   "execution_count": null,
   "metadata": {
    "vscode": {
     "languageId": "xml"
    }
   },
   "outputs": [],
   "source": [
    "<joint name=\"joint_3_4\" type=\"prismatic\">\n",
    "    <parent link=\"link_3\"/>\n",
    "    <child link=\"link_4\"/>\n",
    "    <origin xyz=\"0 0 0.2\" rpy=\"0 0 0\"/>\n",
    "    <axis xyz=\"0 0 1\"/>\n",
    "    <limit lower=\"0\" upper=\"0.1\" effort=\"0.5\" velocity=\"0.5\"/>\n",
    "</joint>"
   ]
  },
  {
   "cell_type": "markdown",
   "metadata": {},
   "source": [
    "- Joint at Link 4 and End Effector (Fixed)\n"
   ]
  },
  {
   "cell_type": "code",
   "execution_count": null,
   "metadata": {
    "vscode": {
     "languageId": "xml"
    }
   },
   "outputs": [],
   "source": [
    "<joint name=\"joint_4_neff\" type=\"fixed\">\n",
    "    <parent link=\"link_4\"/>\n",
    "    <child link=\"end_effector\"/>\n",
    "    <origin xyz=\"0 0 0\" rpy=\"3.14 -1.57 0\"/>\n",
    "    <axis xyz=\"0 0 0\"/>\n",
    "</joint>"
   ]
  },
  {
   "cell_type": "markdown",
   "metadata": {},
   "source": [
    "\n",
    "2. สร้าง Launch File สำหรับเรียกใช้งาน rviz2 และ URDF ของหุ่นยนต์\n",
    "\n",
    "    2.1 สร้าง Launch File ใน Folder \"sandevistan_description/launch\" ชื่อว่า \"display.launch.py\"\n",
    "\n",
    "    2.2 ด้านใน Launch File ให้เขียนดังนี้:"
   ]
  },
  {
   "cell_type": "markdown",
   "metadata": {},
   "source": [
    "Import Libraries ที่จำเป็น"
   ]
  },
  {
   "cell_type": "code",
   "execution_count": null,
   "metadata": {},
   "outputs": [],
   "source": [
    "import os\n",
    "from ament_index_python.packages import get_package_share_directory\n",
    "from launch import LaunchDescription\n",
    "from launch_ros.actions import Node\n",
    "import sys"
   ]
  },
  {
   "cell_type": "markdown",
   "metadata": {},
   "source": [
    "ด้านในจะมี Function ชื่อ \"generate_launch_description\" สำหรับทำการเรียกใช้ Node"
   ]
  },
  {
   "cell_type": "code",
   "execution_count": null,
   "metadata": {},
   "outputs": [],
   "source": [
    "def generate_launch_description():\n",
    "    package_path = get_package_share_directory('sandevistan_description')\n",
    "    rviz_file_path = os.path.join(package_path, 'config', 'sandevistan_kinematics.rviz')\n",
    "    robot_desc_path = os.path.join(package_path, 'robot', 'sandevistan.urdf')\n",
    "    \n",
    "    rviz = Node(\n",
    "       package='rviz2',\n",
    "       executable='rviz2',\n",
    "       name='rviz',\n",
    "       arguments=['-d', rviz_file_path],\n",
    "       output='screen')\n",
    "\n",
    "    with open(robot_desc_path, 'r') as infp:\n",
    "        robot_description = infp.read()\n",
    "    \n",
    "    robot_state_publisher = Node(package='robot_state_publisher',\n",
    "                                  executable='robot_state_publisher',\n",
    "                                  output='screen',\n",
    "                                  parameters=[\n",
    "                                    {'use_sim_time': 'false'},\n",
    "                                    {'robot_description': robot_description}\n",
    "                                  ])\n",
    "\n",
    "    # Launch Description\n",
    "    launch_description = LaunchDescription()\n",
    "    toAddAction = [rviz, robot_state_publisher]\n",
    "    for i in toAddAction:\n",
    "        launch_description.add_action(i)\n",
    "    \n",
    "    return launch_description"
   ]
  },
  {
   "cell_type": "markdown",
   "metadata": {},
   "source": [
    "โดยจะเริ่มจากเก็บ Path ของ Package, rviz2 settings และ URDF (Robot Description) ไว้ในตัวแปร package_path, rviz_file_path และ robot_desc_path"
   ]
  },
  {
   "cell_type": "code",
   "execution_count": null,
   "metadata": {},
   "outputs": [],
   "source": [
    "package_path = get_package_share_directory('sandevistan_description')\n",
    "rviz_file_path = os.path.join(package_path, 'config', 'sandevistan_kinematics.rviz')\n",
    "robot_desc_path = os.path.join(package_path, 'robot', 'sandevistan.urdf')"
   ]
  },
  {
   "cell_type": "markdown",
   "metadata": {},
   "source": [
    "สร้าง Node สำหรับ rviz2 โดยใช้ rviz2 และ ระบุ rviz2 settings ด้วย rviz_file_path"
   ]
  },
  {
   "cell_type": "code",
   "execution_count": null,
   "metadata": {},
   "outputs": [],
   "source": [
    "rviz = Node(\n",
    "    package='rviz2',\n",
    "    executable='rviz2',\n",
    "    name='rviz',\n",
    "    arguments=['-d', rviz_file_path],\n",
    "    output='screen')"
   ]
  },
  {
   "cell_type": "markdown",
   "metadata": {},
   "source": [
    "เปิดไฟล์ URDF และเก็บค่าทั้งหมดไว้ใน robot_description จากนั้นสร้าง Node สำหรับ Robot State Publisher โดยใช้ Package 'robot_state_publisher' และระบุ Parameter 'robot_description' ด้วย robot_description"
   ]
  },
  {
   "cell_type": "code",
   "execution_count": null,
   "metadata": {},
   "outputs": [],
   "source": [
    "with open(robot_desc_path, 'r') as infp:\n",
    "        robot_description = infp.read()\n",
    "    \n",
    "robot_state_publisher = Node(package='robot_state_publisher',\n",
    "                                executable='robot_state_publisher',\n",
    "                                output='screen',\n",
    "                                parameters=[\n",
    "                                {'use_sim_time': 'false'},\n",
    "                                {'robot_description': robot_description}\n",
    "                                ])"
   ]
  },
  {
   "cell_type": "markdown",
   "metadata": {},
   "source": [
    "สร้าง Launch Description สำหรับรัน Node ทั้งหมด"
   ]
  },
  {
   "cell_type": "code",
   "execution_count": null,
   "metadata": {},
   "outputs": [],
   "source": [
    "launch_description = LaunchDescription()\n",
    "toAddAction = [rviz, robot_state_publisher]\n",
    "for i in toAddAction:\n",
    "    launch_description.add_action(i)\n",
    "\n",
    "return launch_description"
   ]
  },
  {
   "cell_type": "markdown",
   "metadata": {},
   "source": [
    "3. สร้าง Package \"sandevistan_kinematics\" สำหรับสร้าง Service Server ในการรับค่าเพื่อมาคำนวณหา Forward Kinematics และ Inverse Kinematics \n",
    "\n",
    "    โดยเราจะแยกการคำนวณไว้ในไฟล์ \"robot_module.py\" และนำไปไว้ในโฟลเดอร์ \"sandevistan_kinematics/sandevistan_kinematics\" และสร้าง Service Server ในไฟล์ \"kinematics_server.py\" ในโฟลเดอร์ \"sandevistan_kinematics/scripts\"\n",
    "\n",
    "ในไฟล์ \"robot_module.py\":"
   ]
  },
  {
   "cell_type": "markdown",
   "metadata": {},
   "source": [
    "3.1 Import Library และตั้งค่าตัวแปรต่าง ๆ ที่จำเป็น\n",
    "\n",
    "Library ที่จำเป็น:\n",
    "- numpy\n",
    "\n",
    "ตัวแปรต่าง ๆ ที่จำเป็น:\n",
    "- ความถี่ของการอัพเดทข้อมูล (Hz) [`rate`]\n",
    "- ค่า Default ของ Joint ทั้งหมด [`defaultJointCf`]\n",
    "- ค่าความยาวของ Link ทั้งหมด [`linkLengths`]\n",
    "- ตัวแปรสำหรับเปลี่ยนองศาเป็น Radians [`degree`]\n",
    "- ชื่อของ Joint ทั้งหมด [`jointName`]"
   ]
  },
  {
   "cell_type": "code",
   "execution_count": null,
   "metadata": {},
   "outputs": [],
   "source": [
    "import numpy as np\n",
    "\n",
    "rate = 10\n",
    "\n",
    "defaultJointCf = [0., 0., 0., 0.]\n",
    "\n",
    "linkLengths = [0.4, 0.15, 0.2]\n",
    "degree = np.pi / 180.0\n",
    "\n",
    "jointName = ['joint_0_1', 'joint_1_2', 'joint_2_3', 'joint_3_4']"
   ]
  },
  {
   "cell_type": "markdown",
   "metadata": {},
   "source": [
    "3.2 สร้าง Function สำหรับคำนวณ Forward Kinematics โดยใช้ Denavit-Hartenberg Parameters (DH Parameters)"
   ]
  },
  {
   "cell_type": "code",
   "execution_count": null,
   "metadata": {},
   "outputs": [],
   "source": [
    "def FKEq(q:list, link:list):\n",
    "    x = -(link[1] + link[2] + q[3])*np.sin(q[0])*np.cos(q[1])\n",
    "    y = (link[1] + link[2] + q[3])*np.cos(q[0])*np.cos(q[1])\n",
    "    z = link[0] + link[1]*np.sin(q[1]) + link[2]*np.sin(q[1]) + q[3]*np.sin(q[1])\n",
    "    return x, y, z"
   ]
  },
  {
   "cell_type": "markdown",
   "metadata": {},
   "source": [
    "3.3 สร้าง Function สำหรับคำนวณ Inverse Kinematics โดยมาจากการย้อนสมการ Forward Kinematics"
   ]
  },
  {
   "cell_type": "code",
   "execution_count": null,
   "metadata": {},
   "outputs": [],
   "source": [
    "def IKEq(pos:list, gamma:int, link:list):\n",
    "    q1 = -np.arctan2(pos[0]/gamma, pos[1]/gamma)\n",
    "    q2 = np.arcsin(np.sqrt(1-((pos[0]**2+pos[1]**2)/((np.sqrt(((pos[2]-link[0])**2)+pos[0]**2+pos[1]**2))**2))))\n",
    "    q4 = -link[1] - link[2] + (np.sqrt(((pos[2]-link[0])**2)+pos[0]**2+pos[1]**2))\n",
    "    return q1, q2, q4"
   ]
  },
  {
   "cell_type": "markdown",
   "metadata": {},
   "source": [
    "3.4 สร้าง Function สำหรับการเช็ค Workspace ของหุ่นยนต์ โดยใช้ Position\n",
    "\n",
    "Workspace ของหุ่นยนต์:\n",
    "\n",
    "<img src='pic/robotWS.jpg'/>\n",
    "\n",
    "ทำให้เราได้ Constrain ดังนี้:\n",
    "\n",
    "$$0.35 \\leq \\sqrt{x^2 + y^2 + z^2} \\leq 0.45$$\n",
    "$$0.4 \\leq z \\leq 0.85$$\n",
    "\n",
    "จากนั้นนำ Constrain ที่ได้มาเขียนเป็น Function ที่ Return Boolean ออกมาได้ว่า"
   ]
  },
  {
   "cell_type": "code",
   "execution_count": null,
   "metadata": {},
   "outputs": [],
   "source": [
    "def checkWSIK(pos:list):\n",
    "    ptInWS = np.sqrt(pos[0]**2 + pos[1]**2 + (pos[2]-linkLengths[0])**2)\n",
    "    if((0.35 <= ptInWS <= 0.45) and (0.4 <= pos[2] <= 0.85)):\n",
    "        return True\n",
    "    return False"
   ]
  },
  {
   "cell_type": "markdown",
   "metadata": {},
   "source": [
    "3.5 สร้าง Function สำหรับการเช็ค Workspace ของหุ่นยนต์ โดยใช้ Joint\n",
    "\n",
    "เรามี Constrain ดังนี้:\n",
    "$$q_1 \\in [-360, 360]\\ deg$$\n",
    "$$q_2 \\in [0, 180]\\ deg$$\n",
    "$$q_3 \\in [-360, 360]\\ deg$$\n",
    "$$q_4 \\in [0, 0.1]\\ m$$\n",
    "\n",
    "เนื่องจาก $q_1$ และ $q_3$ สามารถหมุนได้อย่างไม่จำกัดทำให้ไม่จำเป็นต้องเช็ค Constrain ของ $q_1$ และ $q_3$ ทำให้สามารถเขียน Function ที่ Return Boolean ออกมาเป็น"
   ]
  },
  {
   "cell_type": "code",
   "execution_count": null,
   "metadata": {},
   "outputs": [],
   "source": [
    "def checkWSFK(q:list):\n",
    "    if((0 <= q[1] <= np.pi) and 0 <= q[3] <= 0.1):\n",
    "        return True\n",
    "    return False"
   ]
  },
  {
   "cell_type": "markdown",
   "metadata": {},
   "source": [
    "ในไฟล์ \"kinematics_server.py\":\n",
    "\n",
    "3.6 Import Library, Python Module, Message Type และ Service ที่จำเป็น\n",
    "\n",
    "Library ที่จำเป็น:\n",
    "- sys\n",
    "- rclpy\n",
    "\n",
    "Python Module ที่จำเป็น:\n",
    "- robot_module จากโฟลเดอร์ 'sandevistan_kinematics'\n",
    "\n",
    "Message Type ที่จำเป็น:\n",
    "- JointState จาก 'sensor_msgs/msg'\n",
    "\n",
    "Service ที่จำเป็น:\n",
    "- GetPosition จากโฟล์เดอร์ 'sandevistan_kinematics_interfaces/srv'\n",
    "- SolveIK จากโฟล์เดอร์ 'sandevistan_kinematics_interfaces/srv'"
   ]
  },
  {
   "cell_type": "code",
   "execution_count": null,
   "metadata": {},
   "outputs": [],
   "source": [
    "import sys\n",
    "import rclpy\n",
    "from rclpy.node import Node\n",
    "from rclpy.qos import QoSProfile\n",
    "\n",
    "from sandevistan_kinematics.robot_module import rate, defaultJointCf, linkLengths, degree, jointName, FKEq, IKEq, checkWS\n",
    "\n",
    "from sensor_msgs.msg import JointState\n",
    "from sandevistan_kinematics_interfaces.srv import GetPosition, SolveIK"
   ]
  },
  {
   "cell_type": "markdown",
   "metadata": {},
   "source": [
    "3.7 สร้าง State Publisher สำหรับการ Publish ข้อมูลของ Joint ทั้งหมด และสร้าง Service Server สำหรับการรับข้อมูลจาก Client และคำนวณค่า Joint ที่ต้องการทั้ง Forward Kinematics และ Inverse Kinematics โดยเริ่มจาก:\n",
    "\n",
    "ใน `__init__()` ของ Class ที่ชื่อว่า \"SandeStatePub\"\n",
    "- ตั้ง QoS Profile\n",
    "- สร้าง Topic สำหรับการ Publish ข้อมูลของ Joint ทั้งหมดชื่อว่า \"joint_states\"\n",
    "- สร้าง Timer สำหรับการ Publish ข้อมูลของ Joint ทั้งหมดทุกๆ 1/rate วินาที\n",
    "\n",
    "- ตั้งค่าชื่อและตำแหน่งเริ่มต้นของ Joint ทั้งหมด\n",
    "\n",
    "- สร้าง Service Server สำหรับการรับข้อมูลจาก Client และคำนวณค่า Joint ที่ต้องการทั้ง Forward Kinematics และ Inverse Kinematics ชื่อว่า \"set_joint\" และ \"solve_ik\" ตามลำดับ"
   ]
  },
  {
   "cell_type": "code",
   "execution_count": null,
   "metadata": {},
   "outputs": [],
   "source": [
    "class SandeStatePub(Node):\n",
    "    def __init__(self):\n",
    "        super().__init__('kinematics_server')\n",
    "\n",
    "        qos_profile = QoSProfile(depth=10)\n",
    "        self.jointPub = self.create_publisher(JointState, 'joint_states', qos_profile)\n",
    "        self.jointPubTimer = self.create_timer(1/rate, self.jointPubTimerCallback)\n",
    "\n",
    "        self.jointState = JointState()\n",
    "        self.jointState.name = jointName\n",
    "        self.jointState.position = defaultJointCf\n",
    "\n",
    "        self.setJoint = self.create_service(GetPosition, 'set_joints', self.setJointCallback)\n",
    "        self.inverseKine = self.create_service(SolveIK, 'solve_ik', self.solveIKCallback)\n",
    "\n",
    "        self.get_logger().info(\"SandeStatePub started\")"
   ]
  },
  {
   "cell_type": "markdown",
   "metadata": {},
   "source": [
    "3.8 สร้าง Timer Callback Function สำหรับการ Publish เวลาไปสู่ Topic ชื่อ \"joint_states\""
   ]
  },
  {
   "cell_type": "code",
   "execution_count": null,
   "metadata": {},
   "outputs": [],
   "source": [
    "def jointPubTimerCallback(self):\n",
    "    self.jointState.header.stamp = self.get_clock().now().to_msg()\n",
    "    self.jointPub.publish(self.jointState)"
   ]
  },
  {
   "cell_type": "markdown",
   "metadata": {},
   "source": [
    "3.9 สร้าง Service Callback Function สำหรับ Service Server ชื่อ \"set_joint\" เพื่อนำค่า Joint ที่รับมาจาก Client มาคำนวณค่า Forward Kinematics และ Return ค่า Position ของ End Effector กลับไปยัง Client พร้อมกับการ Publish ข้อมูลของ Joint ทั้งหมดไปยัง Topic \"joint_states\""
   ]
  },
  {
   "cell_type": "code",
   "execution_count": null,
   "metadata": {},
   "outputs": [],
   "source": [
    "def setJointCallback(self, request:GetPosition.Request, response:GetPosition.Response):\n",
    "    [q1, q2, q3, q4] = request.joint.position[0:4]\n",
    "    [q1, q2, q3] = [i*degree for i in [q1, q2, q3]]\n",
    "    self.jointState.position = q = [q1, q2, q3, q4]\n",
    "    x, y, z = FKEq(q, linkLengths)\n",
    "    response.position.x = x\n",
    "    response.position.y = y\n",
    "    response.position.z = z\n",
    "    return response"
   ]
  },
  {
   "cell_type": "markdown",
   "metadata": {},
   "source": [
    "3.10 สร้าง Service Callback Function สำหรับ Service Server ชื่อ \"solve_ik\" เพื่อนำค่า Position ของ End Effector ที่รับมาจาก Client มาคำนวณค่า Inverse Kinematics และ Return ค่า Joint ที่ต้องการ กลับไปยัง Client พร้อมกับการ Publish ข้อมูลของ Joint ทั้งหมดไปยัง Topic \"joint_states\""
   ]
  },
  {
   "cell_type": "code",
   "execution_count": null,
   "metadata": {},
   "outputs": [],
   "source": [
    "def solveIKCallback(self, request:SolveIK.Request, response:SolveIK.Response):\n",
    "    pos = [request.position.x, request.position.y, request.position.z]\n",
    "    gamma = request.armconfig\n",
    "    q3 = request.jointconfig*degree\n",
    "    IKSuccess = checkWSIK(pos)\n",
    "    q1, q2, q4 = IKEq(pos, gamma, linkLengths) if IKSuccess else 0, 0, 0\n",
    "    IKSuccess = response.success = checkWSFK([q1, q2, q3, q4])\n",
    "    self.jointState.position = response.joint.position = [q1, q2, q3, q4] if IKSuccess else defaultJointCf\n",
    "    return response"
   ]
  },
  {
   "cell_type": "markdown",
   "metadata": {},
   "source": [
    "4. สร้าง Launch File ใน Package \"sandevistan_kinematics\" สำหรับการ Run Launch File ใน Package \"sandevistan_description\" พร้อมกับการ Run Node ที่สร้างขึ้นในข้อ 3. โดยจะสร้าง Launch File ชื่อ \"display_with_kinematics_srv.launch.py\" ซึ่งอยู่ใน Folder \"sandevistan_kinematics/launch\" โดยเริ่มจาก:"
   ]
  },
  {
   "cell_type": "markdown",
   "metadata": {},
   "source": [
    "4.1 Import Module และ Library ที่จำเป็น\n",
    "\n",
    "Module ที่จำเป็น:\n",
    "- launch\n",
    "- launch_ros\n",
    "\n",
    "Library ที่จำเป็น:\n",
    "- sys"
   ]
  },
  {
   "cell_type": "code",
   "execution_count": null,
   "metadata": {},
   "outputs": [],
   "source": [
    "from launch import LaunchDescription\n",
    "from launch_ros.actions import Node\n",
    "from launch_ros.substitutions import FindPackageShare\n",
    "from launch.actions import IncludeLaunchDescription, ExecuteProcess\n",
    "from launch.substitutions import PathJoinSubstitution\n",
    "from launch.launch_description_sources import PythonLaunchDescriptionSource\n",
    "\n",
    "import sys"
   ]
  },
  {
   "cell_type": "markdown",
   "metadata": {},
   "source": [
    "4.2 สร้าง Function สำหรับการ Run Launch File ใน Package \"sandevistan_description\" และ Node ใน Package \"sandevistan_kinematics\" เริ่มจาก:\n",
    "- ดึง Launch File Path ของ Launch File ใน Package \"sandevistan_description\" ชื่อ \"display.launch.py\" \n",
    "- สร้าง Node ใน Package \"sandevistan_kinematics\" ชื่อ \"kinematics_server\" โดยใช้ Python Script ชื่อ \"kinematics_server.py\"\n",
    "- สร้าง Launch Description สำหรับการ Run Launch File และ Node ที่สร้างขึ้น"
   ]
  },
  {
   "cell_type": "code",
   "execution_count": null,
   "metadata": {},
   "outputs": [],
   "source": [
    "def generate_launch_description():\n",
    "    display = IncludeLaunchDescription(\n",
    "        PythonLaunchDescriptionSource([\n",
    "            PathJoinSubstitution([FindPackageShare('sandevistan_description'),\n",
    "                                  'launch',\n",
    "                                  'display.launch.py'])\n",
    "            ])\n",
    "        )\n",
    "    \n",
    "    kinematics_server = Node(package='sandevistan_kinematics',\n",
    "                             executable='kinematics_server.py',)\n",
    "    \n",
    "    # Launch Description\n",
    "    launch_description = LaunchDescription()\n",
    "    toAddAction = [display, kinematics_server]\n",
    "    for i in toAddAction:\n",
    "        launch_description.add_action(i)\n",
    "    \n",
    "    return launch_description"
   ]
  },
  {
   "cell_type": "markdown",
   "metadata": {},
   "source": [
    "5. สร้างไฟล์ Service ใน Package \"sandevistan_kinematics_interfaces\" และเก็บไว้ใน Folder \"sandevistan_kinematics_interfaces/srv\""
   ]
  },
  {
   "cell_type": "markdown",
   "metadata": {},
   "source": [
    "<style>\n",
    ".mycode{\n",
    "    display: block;\n",
    "    border-radius: 5px;\n",
    "    background-color: #333;\n",
    "    font-size: 14px;\n",
    "    padding: 10px;\n",
    "    margin: 25px;\n",
    "}\n",
    "</style>\n",
    "\n",
    "5.1 ไฟล์ \"GetPosition.srv\" จะมีรูปแบบดังนี้:\n",
    "\n",
    "Input: \n",
    "- sensor_msgs/JointState ชื่อ \"joint\"\n",
    "\n",
    "Output: \n",
    "- geometry_msgs/Point ชื่อ \"position\"\n",
    "<pre class='mycode'>\n",
    "sensor_msgs/JointState joint\n",
    "---\n",
    "geometry_msgs/Point position\n",
    "</pre>\n",
    "\n",
    "5.2 ไฟล์ \"SolveIK.srv\" จะมีรูปแบบดังนี้:\n",
    "\n",
    "Input: \n",
    "- geometry_msgs/Point ชื่อ \"position\"\n",
    "- int32 ชื่อ \"armconfig\" มีค่า default คือ 1\n",
    "- float64 ชื่อ \"jointconfig\"\n",
    "\n",
    "Output: \n",
    "- sensor_msgs/JointState ชื่อ \"joint\"\n",
    "- bool ชื่อ \"success\"\n",
    "<pre class='mycode'>\n",
    "geometry_msgs/Point position\n",
    "int32 armconfig 1\n",
    "float64 jointconfig\n",
    "---\n",
    "sensor_msgs/JointState joint\n",
    "bool success\n",
    "</pre>\n",
    "<hr>"
   ]
  },
  {
   "cell_type": "markdown",
   "metadata": {},
   "source": [
    "## **<font size=6>การคำนวณหาสมการ Forward และ Inverse Kinematics</font>**"
   ]
  },
  {
   "cell_type": "markdown",
   "metadata": {},
   "source": [
    "1. สมการ Forward Kinematics ของ Robot จะมีรูปแบบดังนี้:"
   ]
  },
  {
   "cell_type": "markdown",
   "metadata": {},
   "source": [
    "1.1 Transformation และ Rotation Matrix"
   ]
  },
  {
   "cell_type": "code",
   "execution_count": 6,
   "metadata": {},
   "outputs": [],
   "source": [
    "import sympy as sp\n",
    "import numpy as np\n",
    "from IPython.display import display, Math\n",
    "\n",
    "def transX(d):\n",
    "    return sp.Matrix([[1, 0, 0, d],\n",
    "                     [0, 1, 0, 0],\n",
    "                     [0, 0, 1, 0],\n",
    "                     [0, 0, 0, 1]])\n",
    "def transZ(a):\n",
    "    return sp.Matrix([[1, 0, 0, 0],\n",
    "                     [0, 1, 0, 0],\n",
    "                     [0, 0, 1, a],\n",
    "                     [0, 0, 0, 1]])\n",
    "\n",
    "def rotX(theta):\n",
    "    return sp.Matrix([[1, 0, 0, 0],\n",
    "                     [0, sp.cos(theta), -sp.sin(theta), 0],\n",
    "                     [0, sp.sin(theta), sp.cos(theta), 0],\n",
    "                     [0, 0, 0, 1]])\n",
    "\n",
    "def rotZ(theta):\n",
    "    return sp.Matrix([[sp.cos(theta), -sp.sin(theta), 0, 0],\n",
    "                     [sp.sin(theta), sp.cos(theta), 0, 0],\n",
    "                     [0, 0, 1, 0],\n",
    "                     [0, 0, 0, 1]])\n",
    "    \n",
    "def rotMattoRPY(R):\n",
    "    return sp.Matrix([sp.atan2(R[1,0], R[0,0]), sp.atan2(-R[2,0], sp.sqrt(R[2,1]**2 + R[2,2]**2)), sp.atan2(R[2,1], R[2,2])])"
   ]
  },
  {
   "cell_type": "markdown",
   "metadata": {},
   "source": [
    "1.2 DH Parameter และ Homogeneous Transfomation Matrix (Joint สุดท้าย - End Effector) ของหุ่นยนต์จะมีรูปแบบดังนี้:\n",
    "\n",
    "<img src='pic/DHParameter.jpg'/>"
   ]
  },
  {
   "cell_type": "code",
   "execution_count": 7,
   "metadata": {},
   "outputs": [
    {
     "data": {
      "text/latex": [
       "$\\displaystyle \\mathbf{DH} = \\left[\\begin{matrix}0 & 0 & l_{0} & - \\frac{\\pi}{2}\\\\0 & - \\frac{\\pi}{2} & 0 & - \\frac{\\pi}{2}\\\\0 & \\frac{\\pi}{2} & l_{1} & 0\\\\0 & 0 & l_{2} & 0\\end{matrix}\\right]$"
      ],
      "text/plain": [
       "<IPython.core.display.Math object>"
      ]
     },
     "metadata": {},
     "output_type": "display_data"
    },
    {
     "data": {
      "text/latex": [
       "$\\displaystyle \\mathbf{Hne} = \\left[\\begin{matrix}0 & 0 & 1 & 0\\\\0 & -1 & 0 & 0\\\\1 & 0 & 0 & 0\\\\0 & 0 & 0 & 1\\end{matrix}\\right]$"
      ],
      "text/plain": [
       "<IPython.core.display.Math object>"
      ]
     },
     "metadata": {},
     "output_type": "display_data"
    }
   ],
   "source": [
    "l0, l1, l2 = sp.Symbol('l0'), sp.Symbol('l1'), sp.Symbol('l2')\n",
    "\n",
    "DH = sp.Matrix([[0, 0, l0, -sp.pi/2],\n",
    "               [0, -sp.pi/2, 0, -sp.pi/2],\n",
    "               [0, sp.pi/2, l1, 0],\n",
    "               [0, 0, l2, 0]])\n",
    "\n",
    "#type of joints\n",
    "jointType = sp.Matrix([1, 1, 1, 0])\n",
    "# where 1 is revolute and 0 is prismatic\n",
    "\n",
    "# homogeneous transformation matrix\n",
    "Hne = sp.Matrix([[0, 0, 1, 0],\n",
    "                [0, -1, 0, 0],\n",
    "                [1, 0, 0, 0],\n",
    "                [0, 0, 0, 1]])\n",
    "display(Math(r'\\mathbf{DH} = ' + sp.latex(DH)))\n",
    "display(Math(r'\\mathbf{Hne} = ' + sp.latex(Hne)))"
   ]
  },
  {
   "cell_type": "markdown",
   "metadata": {},
   "source": [
    "1.3 Homogeneous Transformation Matrix ของ Joint แรกถึง End Effector ของหุ่นยนต์จะมีรูปแบบดังนี้:"
   ]
  },
  {
   "cell_type": "code",
   "execution_count": 8,
   "metadata": {},
   "outputs": [
    {
     "data": {
      "text/latex": [
       "$\\displaystyle \\mathbf{H0e} = \\left[\\begin{matrix}- \\sin{\\left(q_{1} \\right)} \\cos{\\left(q_{2} \\right)} & \\sin{\\left(q_{1} \\right)} \\sin{\\left(q_{2} \\right)} \\sin{\\left(q_{3} \\right)} - \\cos{\\left(q_{1} \\right)} \\cos{\\left(q_{3} \\right)} & \\sin{\\left(q_{1} \\right)} \\sin{\\left(q_{2} \\right)} \\cos{\\left(q_{3} \\right)} + \\sin{\\left(q_{3} \\right)} \\cos{\\left(q_{1} \\right)} & - l_{1} \\sin{\\left(q_{1} \\right)} \\cos{\\left(q_{2} \\right)} - l_{2} \\sin{\\left(q_{1} \\right)} \\cos{\\left(q_{2} \\right)} - q_{4} \\sin{\\left(q_{1} \\right)} \\cos{\\left(q_{2} \\right)}\\\\\\cos{\\left(q_{1} \\right)} \\cos{\\left(q_{2} \\right)} & - \\sin{\\left(q_{1} \\right)} \\cos{\\left(q_{3} \\right)} - \\sin{\\left(q_{2} \\right)} \\sin{\\left(q_{3} \\right)} \\cos{\\left(q_{1} \\right)} & \\sin{\\left(q_{1} \\right)} \\sin{\\left(q_{3} \\right)} - \\sin{\\left(q_{2} \\right)} \\cos{\\left(q_{1} \\right)} \\cos{\\left(q_{3} \\right)} & l_{1} \\cos{\\left(q_{1} \\right)} \\cos{\\left(q_{2} \\right)} + l_{2} \\cos{\\left(q_{1} \\right)} \\cos{\\left(q_{2} \\right)} + q_{4} \\cos{\\left(q_{1} \\right)} \\cos{\\left(q_{2} \\right)}\\\\\\sin{\\left(q_{2} \\right)} & \\sin{\\left(q_{3} \\right)} \\cos{\\left(q_{2} \\right)} & \\cos{\\left(q_{2} \\right)} \\cos{\\left(q_{3} \\right)} & l_{0} + l_{1} \\sin{\\left(q_{2} \\right)} + l_{2} \\sin{\\left(q_{2} \\right)} + q_{4} \\sin{\\left(q_{2} \\right)}\\\\0 & 0 & 0 & 1\\end{matrix}\\right]$"
      ],
      "text/plain": [
       "<IPython.core.display.Math object>"
      ]
     },
     "metadata": {},
     "output_type": "display_data"
    }
   ],
   "source": [
    "Hiden = sp.eye(4)\n",
    "q = [sp.Symbol('q1'), sp.Symbol('q2'), sp.Symbol('q3'), sp.Symbol('q4')]\n",
    "for i in range(DH.shape[0]):\n",
    "    Tx = transX(DH[i, 0])\n",
    "    Rx = rotX(DH[i, 1])\n",
    "    Tz = transZ(DH[i, 2])\n",
    "    Rz = rotZ(DH[i, 3])\n",
    "    if jointType[i]:\n",
    "        Hj = rotZ(q[i])\n",
    "    else:\n",
    "        Hj = transZ(q[i])\n",
    "        \n",
    "    Hiden = Hiden * Tx * Rx * Tz * Rz * Hj\n",
    "H0e = Hiden * Hne\n",
    "\n",
    "display(Math(r'\\mathbf{H0e} = ' + sp.latex(H0e)))"
   ]
  },
  {
   "cell_type": "markdown",
   "metadata": {},
   "source": [
    "1.4 Rotation และ Position Matrix ของ Joint แรกถึง End Effector ของหุ่นยนต์จะมีรูปแบบดังนี้:"
   ]
  },
  {
   "cell_type": "code",
   "execution_count": 9,
   "metadata": {},
   "outputs": [
    {
     "data": {
      "text/latex": [
       "$\\displaystyle \\mathbf{R} = \\left[\\begin{matrix}- \\sin{\\left(q_{1} \\right)} \\cos{\\left(q_{2} \\right)} & \\sin{\\left(q_{1} \\right)} \\sin{\\left(q_{2} \\right)} \\sin{\\left(q_{3} \\right)} - \\cos{\\left(q_{1} \\right)} \\cos{\\left(q_{3} \\right)} & \\sin{\\left(q_{1} \\right)} \\sin{\\left(q_{2} \\right)} \\cos{\\left(q_{3} \\right)} + \\sin{\\left(q_{3} \\right)} \\cos{\\left(q_{1} \\right)}\\\\\\cos{\\left(q_{1} \\right)} \\cos{\\left(q_{2} \\right)} & - \\sin{\\left(q_{1} \\right)} \\cos{\\left(q_{3} \\right)} - \\sin{\\left(q_{2} \\right)} \\sin{\\left(q_{3} \\right)} \\cos{\\left(q_{1} \\right)} & \\sin{\\left(q_{1} \\right)} \\sin{\\left(q_{3} \\right)} - \\sin{\\left(q_{2} \\right)} \\cos{\\left(q_{1} \\right)} \\cos{\\left(q_{3} \\right)}\\\\\\sin{\\left(q_{2} \\right)} & \\sin{\\left(q_{3} \\right)} \\cos{\\left(q_{2} \\right)} & \\cos{\\left(q_{2} \\right)} \\cos{\\left(q_{3} \\right)}\\end{matrix}\\right]$"
      ],
      "text/plain": [
       "<IPython.core.display.Math object>"
      ]
     },
     "metadata": {},
     "output_type": "display_data"
    },
    {
     "data": {
      "text/latex": [
       "$\\displaystyle \\mathbf{P} = \\left[\\begin{matrix}- \\left(l_{1} + l_{2} + q_{4}\\right) \\sin{\\left(q_{1} \\right)} \\cos{\\left(q_{2} \\right)}\\\\\\left(l_{1} + l_{2} + q_{4}\\right) \\cos{\\left(q_{1} \\right)} \\cos{\\left(q_{2} \\right)}\\\\l_{0} + l_{1} \\sin{\\left(q_{2} \\right)} + l_{2} \\sin{\\left(q_{2} \\right)} + q_{4} \\sin{\\left(q_{2} \\right)}\\end{matrix}\\right]$"
      ],
      "text/plain": [
       "<IPython.core.display.Math object>"
      ]
     },
     "metadata": {},
     "output_type": "display_data"
    }
   ],
   "source": [
    "R = sp.trigsimp(H0e[0:3, 0:3])\n",
    "P = sp.trigsimp(H0e[0:3, 3])\n",
    "\n",
    "display(Math(r'\\mathbf{R} = ' + sp.latex(R)))\n",
    "display(Math(r'\\mathbf{P} = ' + sp.latex(P)))"
   ]
  },
  {
   "cell_type": "markdown",
   "metadata": {},
   "source": [
    "เนื่องจากเราต้องการ Position ของ End Effector จึงเลือกแค่ Position Matrix ออกมา\n",
    "\n",
    "$$\n",
    "\\mathbf{P} = \\left[\\begin{matrix}- \\left(l_{1} + l_{2} + q_{4}\\right) \\sin{\\left(q_{1} \\right)} \\cos{\\left(q_{2} \\right)}\\\\\\left(l_{1} + l_{2} + q_{4}\\right) \\cos{\\left(q_{1} \\right)} \\cos{\\left(q_{2} \\right)}\\\\l_{0} + l_{1} \\sin{\\left(q_{2} \\right)} + l_{2} \\sin{\\left(q_{2} \\right)} + q_{4} \\sin{\\left(q_{2} \\right)}\\end{matrix}\\right]\n",
    "$$\n",
    "\n",
    "โดยที่:\n",
    "$$\n",
    "l_{0}\\ คือความยาวของ\\ Link\\ ที่\\ 1\\\\\n",
    "l_{1}\\ คือความยาวของ\\ Link\\ ที่\\ 2\\\\\n",
    "l_{2}\\ คือความยาวของ\\ Link\\ ที่\\ 3\\\\\n",
    "q_{1}\\ คือค่า\\ Joint\\ ที่\\ 1\\\\\n",
    "q_{2}\\ คือค่า\\ Joint\\ ที่\\ 2\\\\\n",
    "q_{4}\\ คือค่า\\ Joint\\ ที่\\ 4\n",
    "$$"
   ]
  },
  {
   "cell_type": "markdown",
   "metadata": {},
   "source": [
    "2. สมการ Inverse Kinematics ของ Robot จะมีรูปแบบดังนี้:\n",
    "\n",
    "<img src='pic/IKCal.jpg'/>"
   ]
  },
  {
   "cell_type": "markdown",
   "metadata": {},
   "source": [
    "$$\n",
    "เนื่องจากหุ่นยนต์ถูกจำกัด\\ Range\\ การเคลื่อนที่ใน\\ Joint\\ q_{2}\\ และ\\ q_{4}\\ ทำให้ค่า\\ {\\gamma_2}\\ และ\\ {\\gamma_3}\\ เป็นได้แค่\\ 1\n",
    "$$"
   ]
  },
  {
   "cell_type": "markdown",
   "metadata": {},
   "source": [
    "<hr>\n",
    "\n",
    "## **<font size=6>การเรียกใช้งาน Launch File และ Service</font>**\n",
    "\n",
    "1. ในการเรียกใช้งาน Launch File จะมีการเรียกใช้งานผ่าน Terminal ด้วยคำสั่ง:\n",
    "<pre>\n",
    "ros2 launch sandevistan_kinematics display_with_kinematics_srv.launch.py\n",
    "</pre>\n",
    "<style>\n",
    "pre{\n",
    "    display: block;\n",
    "    border-radius: 5px;\n",
    "    background-color: #333;\n",
    "    font-size: 14px;\n",
    "    padding: 10px;\n",
    "    margin: 25px;\n",
    "}\n",
    "</style>"
   ]
  },
  {
   "cell_type": "markdown",
   "metadata": {},
   "source": [
    "2. ในการเรียกใช้งาน Service จะมีการเรียกใช้งานผ่าน Terminal ด้วยคำสั่ง:\n",
    "\n",
    "- Service สำหรับการใส่ค่า Joint ของหุ่นยนต์ เพื่อนำมาคำนวณหา Position ของ End Effector:\n",
    "<pre>\n",
    "ros2 service call /set_joints sandevistan_kinematics_interfaces/srv/GetPosition \"joint: \n",
    "position: [0.0, 0.0, 0.0, 0.0]\"\n",
    "</pre>\n",
    "โดยที่:\n",
    "- ค่าที่ 1 คือ $q_1$ ในหน่วย degree\n",
    "- ค่าที่ 2 คือ $q_2$ ในหน่วย degree\n",
    "- ค่าที่ 3 คือ $q_3$ ในหน่วย degree\n",
    "- ค่าที่ 4 คือ $q_4$ ในหน่วย m\n",
    "<style>\n",
    "pre{\n",
    "    display: block;\n",
    "    border-radius: 5px;\n",
    "    background-color: #333;\n",
    "    font-size: 14px;\n",
    "    padding: 10px;\n",
    "    margin: 25px;\n",
    "}\n",
    "</style>"
   ]
  },
  {
   "cell_type": "markdown",
   "metadata": {},
   "source": [
    "- Service สำหรับการใส่ค่า Position ของ End Effector ของหุ่นยนต์ เพื่อนำมาคำนวณหา Joint ของหุ่นยนต์:\n",
    "<pre>\n",
    "ros2 service call /solve_ik sandevistan_kinematics_interfaces/srv/SolveIK \"position:\n",
    "x: 0.0\n",
    "y: 0.0\n",
    "z: 0.0\n",
    "armconfig: 1\n",
    "jointconfig: 0.0\"\n",
    "</pre>\n",
    "โดยที่:\n",
    "- ค่าที่ x อยู่ในหน่วย m\n",
    "- ค่าที่ y อยู่ในหน่วย m\n",
    "- ค่าที่ z อยู่ในหน่วย m\n",
    "- armconfig คือค่า $\\gamma$ ของ $q_2$\n",
    "- jointconfig คือค่า $q_3$ ในหน่วย degree\n",
    "<style>\n",
    "pre{\n",
    "    display: block;\n",
    "    border-radius: 5px;\n",
    "    background-color: #333;\n",
    "    font-size: 14px;\n",
    "    padding: 10px;\n",
    "    margin: 25px;\n",
    "}\n",
    "</style>"
   ]
  }
 ],
 "metadata": {
  "kernelspec": {
   "display_name": "Python 3.9.13 64-bit",
   "language": "python",
   "name": "python3"
  },
  "language_info": {
   "codemirror_mode": {
    "name": "ipython",
    "version": 3
   },
   "file_extension": ".py",
   "mimetype": "text/x-python",
   "name": "python",
   "nbconvert_exporter": "python",
   "pygments_lexer": "ipython3",
   "version": "3.9.13"
  },
  "orig_nbformat": 4,
  "vscode": {
   "interpreter": {
    "hash": "11938c6bc6919ae2720b4d5011047913343b08a43b18698fd82dedb0d4417594"
   }
  }
 },
 "nbformat": 4,
 "nbformat_minor": 2
}
