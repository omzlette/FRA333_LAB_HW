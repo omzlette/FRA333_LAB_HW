{
 "cells": [
  {
   "cell_type": "code",
   "execution_count": 50,
   "metadata": {},
   "outputs": [],
   "source": [
    "import sympy as sp\n",
    "from IPython.display import display, Math"
   ]
  },
  {
   "cell_type": "code",
   "execution_count": 51,
   "metadata": {},
   "outputs": [],
   "source": [
    "def transX(d):\n",
    "    return sp.Matrix([[1, 0, 0, d],\n",
    "                     [0, 1, 0, 0],\n",
    "                     [0, 0, 1, 0],\n",
    "                     [0, 0, 0, 1]])\n",
    "def transZ(a):\n",
    "    return sp.Matrix([[1, 0, 0, 0],\n",
    "                     [0, 1, 0, 0],\n",
    "                     [0, 0, 1, a],\n",
    "                     [0, 0, 0, 1]])\n",
    "\n",
    "def rotX(theta):\n",
    "    return sp.Matrix([[1, 0, 0, 0],\n",
    "                     [0, sp.cos(theta), -sp.sin(theta), 0],\n",
    "                     [0, sp.sin(theta), sp.cos(theta), 0],\n",
    "                     [0, 0, 0, 1]])\n",
    "\n",
    "def rotZ(theta):\n",
    "    return sp.Matrix([[sp.cos(theta), -sp.sin(theta), 0, 0],\n",
    "                     [sp.sin(theta), sp.cos(theta), 0, 0],\n",
    "                     [0, 0, 1, 0],\n",
    "                     [0, 0, 0, 1]])\n",
    "    \n",
    "def rotMattoRPY(R):\n",
    "    return sp.Matrix([sp.atan2(R[1,0], R[0,0]), sp.atan2(-R[2,0], sp.sqrt(R[2,1]**2 + R[2,2]**2)), sp.atan2(R[2,1], R[2,2])])"
   ]
  },
  {
   "cell_type": "code",
   "execution_count": 52,
   "metadata": {},
   "outputs": [
    {
     "data": {
      "text/latex": [
       "$\\displaystyle \\left[\\begin{matrix}0 & 0 & l_{0} & - \\frac{\\pi}{2}\\\\0 & - \\frac{\\pi}{2} & 0 & - \\frac{\\pi}{2}\\\\0 & \\frac{\\pi}{2} & l_{1} & 0\\\\0 & 0 & l_{2} & 0\\end{matrix}\\right]$"
      ],
      "text/plain": [
       "Matrix([\n",
       "[0,     0, l0, -pi/2],\n",
       "[0, -pi/2,  0, -pi/2],\n",
       "[0,  pi/2, l1,     0],\n",
       "[0,     0, l2,     0]])"
      ]
     },
     "execution_count": 52,
     "metadata": {},
     "output_type": "execute_result"
    }
   ],
   "source": [
    "l0, l1, l2 = sp.Symbol('l0'), sp.Symbol('l1'), sp.Symbol('l2')\n",
    "\n",
    "DH = sp.Matrix([[0, 0, l0, -sp.pi/2],\n",
    "               [0, -sp.pi/2, 0, -sp.pi/2],\n",
    "               [0, sp.pi/2, l1, 0],\n",
    "               [0, 0, l2, 0]])\n",
    "\n",
    "#type of joints\n",
    "jointType = sp.Matrix([1, 1, 1, 0])\n",
    "# where 1 is revolute and 0 is prismatic\n",
    "\n",
    "# homogeneous transformation matrix\n",
    "Hne = sp.Matrix([[0, 0, 1, 0],\n",
    "                [0, -1, 0, 0],\n",
    "                [1, 0, 0, 0],\n",
    "                [0, 0, 0, 1]])\n",
    "DH"
   ]
  },
  {
   "cell_type": "code",
   "execution_count": 53,
   "metadata": {},
   "outputs": [
    {
     "data": {
      "text/latex": [
       "$\\displaystyle \\left[\\begin{matrix}- \\sin{\\left(q_{1} \\right)} \\cos{\\left(q_{2} \\right)} & \\sin{\\left(q_{1} \\right)} \\sin{\\left(q_{2} \\right)} \\sin{\\left(q_{3} \\right)} - \\cos{\\left(q_{1} \\right)} \\cos{\\left(q_{3} \\right)} & \\sin{\\left(q_{1} \\right)} \\sin{\\left(q_{2} \\right)} \\cos{\\left(q_{3} \\right)} + \\sin{\\left(q_{3} \\right)} \\cos{\\left(q_{1} \\right)} & - l_{1} \\sin{\\left(q_{1} \\right)} \\cos{\\left(q_{2} \\right)} - l_{2} \\sin{\\left(q_{1} \\right)} \\cos{\\left(q_{2} \\right)} - q_{4} \\sin{\\left(q_{1} \\right)} \\cos{\\left(q_{2} \\right)}\\\\\\cos{\\left(q_{1} \\right)} \\cos{\\left(q_{2} \\right)} & - \\sin{\\left(q_{1} \\right)} \\cos{\\left(q_{3} \\right)} - \\sin{\\left(q_{2} \\right)} \\sin{\\left(q_{3} \\right)} \\cos{\\left(q_{1} \\right)} & \\sin{\\left(q_{1} \\right)} \\sin{\\left(q_{3} \\right)} - \\sin{\\left(q_{2} \\right)} \\cos{\\left(q_{1} \\right)} \\cos{\\left(q_{3} \\right)} & l_{1} \\cos{\\left(q_{1} \\right)} \\cos{\\left(q_{2} \\right)} + l_{2} \\cos{\\left(q_{1} \\right)} \\cos{\\left(q_{2} \\right)} + q_{4} \\cos{\\left(q_{1} \\right)} \\cos{\\left(q_{2} \\right)}\\\\\\sin{\\left(q_{2} \\right)} & \\sin{\\left(q_{3} \\right)} \\cos{\\left(q_{2} \\right)} & \\cos{\\left(q_{2} \\right)} \\cos{\\left(q_{3} \\right)} & l_{0} + l_{1} \\sin{\\left(q_{2} \\right)} + l_{2} \\sin{\\left(q_{2} \\right)} + q_{4} \\sin{\\left(q_{2} \\right)}\\\\0 & 0 & 0 & 1\\end{matrix}\\right]$"
      ],
      "text/plain": [
       "Matrix([\n",
       "[-sin(q1)*cos(q2),  sin(q1)*sin(q2)*sin(q3) - cos(q1)*cos(q3), sin(q1)*sin(q2)*cos(q3) + sin(q3)*cos(q1), -l1*sin(q1)*cos(q2) - l2*sin(q1)*cos(q2) - q4*sin(q1)*cos(q2)],\n",
       "[ cos(q1)*cos(q2), -sin(q1)*cos(q3) - sin(q2)*sin(q3)*cos(q1), sin(q1)*sin(q3) - sin(q2)*cos(q1)*cos(q3),  l1*cos(q1)*cos(q2) + l2*cos(q1)*cos(q2) + q4*cos(q1)*cos(q2)],\n",
       "[         sin(q2),                            sin(q3)*cos(q2),                           cos(q2)*cos(q3),                     l0 + l1*sin(q2) + l2*sin(q2) + q4*sin(q2)],\n",
       "[               0,                                          0,                                         0,                                                             1]])"
      ]
     },
     "execution_count": 53,
     "metadata": {},
     "output_type": "execute_result"
    }
   ],
   "source": [
    "Hiden = sp.eye(4)\n",
    "q = [sp.Symbol('q1'), sp.Symbol('q2'), sp.Symbol('q3'), sp.Symbol('q4')]\n",
    "for i in range(DH.shape[0]):\n",
    "    Tx = transX(DH[i, 0])\n",
    "    Rx = rotX(DH[i, 1])\n",
    "    Tz = transZ(DH[i, 2])\n",
    "    Rz = rotZ(DH[i, 3])\n",
    "    if jointType[i]:\n",
    "        Hj = rotZ(q[i])\n",
    "    else:\n",
    "        Hj = transZ(q[i])\n",
    "        \n",
    "    Hiden = Hiden * Tx * Rx * Tz * Rz * Hj\n",
    "    \n",
    "Hiden = Hiden * Hne\n",
    "Hiden"
   ]
  },
  {
   "cell_type": "code",
   "execution_count": 54,
   "metadata": {},
   "outputs": [
    {
     "data": {
      "text/latex": [
       "$\\displaystyle \\mathbf{R} = \\left[\\begin{matrix}- \\sin{\\left(q_{1} \\right)} \\cos{\\left(q_{2} \\right)} & \\sin{\\left(q_{1} \\right)} \\sin{\\left(q_{2} \\right)} \\sin{\\left(q_{3} \\right)} - \\cos{\\left(q_{1} \\right)} \\cos{\\left(q_{3} \\right)} & \\sin{\\left(q_{1} \\right)} \\sin{\\left(q_{2} \\right)} \\cos{\\left(q_{3} \\right)} + \\sin{\\left(q_{3} \\right)} \\cos{\\left(q_{1} \\right)}\\\\\\cos{\\left(q_{1} \\right)} \\cos{\\left(q_{2} \\right)} & - \\sin{\\left(q_{1} \\right)} \\cos{\\left(q_{3} \\right)} - \\sin{\\left(q_{2} \\right)} \\sin{\\left(q_{3} \\right)} \\cos{\\left(q_{1} \\right)} & \\sin{\\left(q_{1} \\right)} \\sin{\\left(q_{3} \\right)} - \\sin{\\left(q_{2} \\right)} \\cos{\\left(q_{1} \\right)} \\cos{\\left(q_{3} \\right)}\\\\\\sin{\\left(q_{2} \\right)} & \\sin{\\left(q_{3} \\right)} \\cos{\\left(q_{2} \\right)} & \\cos{\\left(q_{2} \\right)} \\cos{\\left(q_{3} \\right)}\\end{matrix}\\right]$"
      ],
      "text/plain": [
       "<IPython.core.display.Math object>"
      ]
     },
     "metadata": {},
     "output_type": "display_data"
    },
    {
     "data": {
      "text/latex": [
       "$\\displaystyle \\mathbf{P} = \\left[\\begin{matrix}\\left(- l_{1} - l_{2} - q_{4}\\right) \\sin{\\left(q_{1} \\right)} \\cos{\\left(q_{2} \\right)}\\\\\\left(l_{1} + l_{2} + q_{4}\\right) \\cos{\\left(q_{1} \\right)} \\cos{\\left(q_{2} \\right)}\\\\l_{0} + l_{1} \\sin{\\left(q_{2} \\right)} + l_{2} \\sin{\\left(q_{2} \\right)} + q_{4} \\sin{\\left(q_{2} \\right)}\\end{matrix}\\right]$"
      ],
      "text/plain": [
       "<IPython.core.display.Math object>"
      ]
     },
     "metadata": {},
     "output_type": "display_data"
    }
   ],
   "source": [
    "R = sp.simplify(Hiden[0:3, 0:3])\n",
    "P = sp.simplify(Hiden[0:3, 3])\n",
    "\n",
    "display(Math(r'\\mathbf{R} = ' + sp.latex(R)))\n",
    "display(Math(r'\\mathbf{P} = ' + sp.latex(P)))\n",
    "\n"
   ]
  },
  {
   "cell_type": "code",
   "execution_count": 55,
   "metadata": {},
   "outputs": [
    {
     "data": {
      "text/plain": [
       "'ImmutableDenseMatrix([[-math.sin(q1)*math.cos(q2), math.sin(q1)*math.sin(q2)*math.sin(q3) - math.cos(q1)*math.cos(q3), math.sin(q1)*math.sin(q2)*math.cos(q3) + math.sin(q3)*math.cos(q1)], [math.cos(q1)*math.cos(q2), -math.sin(q1)*math.cos(q3) - math.sin(q2)*math.sin(q3)*math.cos(q1), math.sin(q1)*math.sin(q3) - math.sin(q2)*math.cos(q1)*math.cos(q3)], [math.sin(q2), math.sin(q3)*math.cos(q2), math.cos(q2)*math.cos(q3)]])'"
      ]
     },
     "execution_count": 55,
     "metadata": {},
     "output_type": "execute_result"
    }
   ],
   "source": [
    "sp.pycode(R)"
   ]
  },
  {
   "cell_type": "code",
   "execution_count": 56,
   "metadata": {},
   "outputs": [
    {
     "data": {
      "text/plain": [
       "'ImmutableDenseMatrix([[(-l1 - l2 - q4)*math.sin(q1)*math.cos(q2)], [(l1 + l2 + q4)*math.cos(q1)*math.cos(q2)], [l0 + l1*math.sin(q2) + l2*math.sin(q2) + q4*math.sin(q2)]])'"
      ]
     },
     "execution_count": 56,
     "metadata": {},
     "output_type": "execute_result"
    }
   ],
   "source": [
    "sp.pycode(P)"
   ]
  },
  {
   "cell_type": "code",
   "execution_count": null,
   "metadata": {},
   "outputs": [],
   "source": [
    "[[-np.sin(q1)*np.cos(q2), np.sin(q1)*np.sin(q2)*np.sin(q3) - np.cos(q1)*np.cos(q3), np.sin(q1)*np.sin(q2)*np.cos(q3) + np.sin(q3)*np.cos(q1)],\n",
    " [np.cos(q1)*np.cos(q2), -np.sin(q1)*np.cos(q3) - np.sin(q2)*np.sin(q3)*np.cos(q1), np.sin(q1)*np.sin(q3) - np.sin(q2)*np.cos(q1)*np.cos(q3)],\n",
    " [np.sin(q2), np.sin(q3)*np.cos(q2), np.cos(q2)*np.cos(q3)]]\n",
    "\n",
    "[[(-l1 - l2 - q4)*np.sin(q1)*np.cos(q2)],\n",
    " [(l1 + l2 + q4)*np.cos(q1)*np.cos(q2)],\n",
    " [l0 + l1*np.sin(q2) + l2*np.sin(q2) + q4*np.sin(q2)]]"
   ]
  }
 ],
 "metadata": {
  "kernelspec": {
   "display_name": "Python 3.8.10 64-bit",
   "language": "python",
   "name": "python3"
  },
  "language_info": {
   "codemirror_mode": {
    "name": "ipython",
    "version": 3
   },
   "file_extension": ".py",
   "mimetype": "text/x-python",
   "name": "python",
   "nbconvert_exporter": "python",
   "pygments_lexer": "ipython3",
   "version": "3.8.10"
  },
  "orig_nbformat": 4,
  "vscode": {
   "interpreter": {
    "hash": "916dbcbb3f70747c44a77c7bcd40155683ae19c65e1c03b4aa3499c5328201f1"
   }
  }
 },
 "nbformat": 4,
 "nbformat_minor": 2
}
