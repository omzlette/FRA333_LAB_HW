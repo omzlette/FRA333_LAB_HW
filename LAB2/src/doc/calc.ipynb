{
 "cells": [
  {
   "cell_type": "code",
   "execution_count": 59,
   "metadata": {},
   "outputs": [],
   "source": [
    "import sympy as sp\n",
    "import numpy as np\n",
    "from IPython.display import display, Math"
   ]
  },
  {
   "cell_type": "code",
   "execution_count": 51,
   "metadata": {},
   "outputs": [],
   "source": [
    "def transX(d):\n",
    "    return sp.Matrix([[1, 0, 0, d],\n",
    "                     [0, 1, 0, 0],\n",
    "                     [0, 0, 1, 0],\n",
    "                     [0, 0, 0, 1]])\n",
    "def transZ(a):\n",
    "    return sp.Matrix([[1, 0, 0, 0],\n",
    "                     [0, 1, 0, 0],\n",
    "                     [0, 0, 1, a],\n",
    "                     [0, 0, 0, 1]])\n",
    "\n",
    "def rotX(theta):\n",
    "    return sp.Matrix([[1, 0, 0, 0],\n",
    "                     [0, sp.cos(theta), -sp.sin(theta), 0],\n",
    "                     [0, sp.sin(theta), sp.cos(theta), 0],\n",
    "                     [0, 0, 0, 1]])\n",
    "\n",
    "def rotZ(theta):\n",
    "    return sp.Matrix([[sp.cos(theta), -sp.sin(theta), 0, 0],\n",
    "                     [sp.sin(theta), sp.cos(theta), 0, 0],\n",
    "                     [0, 0, 1, 0],\n",
    "                     [0, 0, 0, 1]])\n",
    "    \n",
    "def rotMattoRPY(R):\n",
    "    return sp.Matrix([sp.atan2(R[1,0], R[0,0]), sp.atan2(-R[2,0], sp.sqrt(R[2,1]**2 + R[2,2]**2)), sp.atan2(R[2,1], R[2,2])])"
   ]
  },
  {
   "cell_type": "code",
   "execution_count": 73,
   "metadata": {},
   "outputs": [
    {
     "data": {
      "text/latex": [
       "$\\displaystyle \\mathbf{DH} = \\left[\\begin{matrix}0 & 0 & l_{0} & - \\frac{\\pi}{2}\\\\0 & - \\frac{\\pi}{2} & 0 & - \\frac{\\pi}{2}\\\\0 & \\frac{\\pi}{2} & l_{1} & 0\\\\0 & 0 & l_{2} & 0\\end{matrix}\\right]$"
      ],
      "text/plain": [
       "<IPython.core.display.Math object>"
      ]
     },
     "metadata": {},
     "output_type": "display_data"
    },
    {
     "data": {
      "text/latex": [
       "$\\displaystyle \\mathbf{Hne} = \\left[\\begin{matrix}0 & 0 & 1 & 0\\\\0 & -1 & 0 & 0\\\\1 & 0 & 0 & 0\\\\0 & 0 & 0 & 1\\end{matrix}\\right]$"
      ],
      "text/plain": [
       "<IPython.core.display.Math object>"
      ]
     },
     "metadata": {},
     "output_type": "display_data"
    }
   ],
   "source": [
    "l0, l1, l2 = sp.Symbol('l0'), sp.Symbol('l1'), sp.Symbol('l2')\n",
    "\n",
    "DH = sp.Matrix([[0, 0, l0, -sp.pi/2],\n",
    "               [0, -sp.pi/2, 0, -sp.pi/2],\n",
    "               [0, sp.pi/2, l1, 0],\n",
    "               [0, 0, l2, 0]])\n",
    "\n",
    "#type of joints\n",
    "jointType = sp.Matrix([1, 1, 1, 0])\n",
    "# where 1 is revolute and 0 is prismatic\n",
    "\n",
    "# homogeneous transformation matrix\n",
    "Hne = sp.Matrix([[0, 0, 1, 0],\n",
    "                [0, -1, 0, 0],\n",
    "                [1, 0, 0, 0],\n",
    "                [0, 0, 0, 1]])\n",
    "display(Math(r'\\mathbf{DH} = ' + sp.latex(DH)))\n",
    "display(Math(r'\\mathbf{Hne} = ' + sp.latex(Hne)))"
   ]
  },
  {
   "cell_type": "code",
   "execution_count": 74,
   "metadata": {},
   "outputs": [
    {
     "data": {
      "text/latex": [
       "$\\displaystyle \\left[\\begin{matrix}- \\sin{\\left(q_{1} \\right)} \\cos{\\left(q_{2} \\right)} & \\sin{\\left(q_{1} \\right)} \\sin{\\left(q_{2} \\right)} \\sin{\\left(q_{3} \\right)} - \\cos{\\left(q_{1} \\right)} \\cos{\\left(q_{3} \\right)} & \\sin{\\left(q_{1} \\right)} \\sin{\\left(q_{2} \\right)} \\cos{\\left(q_{3} \\right)} + \\sin{\\left(q_{3} \\right)} \\cos{\\left(q_{1} \\right)} & - l_{1} \\sin{\\left(q_{1} \\right)} \\cos{\\left(q_{2} \\right)} - l_{2} \\sin{\\left(q_{1} \\right)} \\cos{\\left(q_{2} \\right)} - q_{4} \\sin{\\left(q_{1} \\right)} \\cos{\\left(q_{2} \\right)}\\\\\\cos{\\left(q_{1} \\right)} \\cos{\\left(q_{2} \\right)} & - \\sin{\\left(q_{1} \\right)} \\cos{\\left(q_{3} \\right)} - \\sin{\\left(q_{2} \\right)} \\sin{\\left(q_{3} \\right)} \\cos{\\left(q_{1} \\right)} & \\sin{\\left(q_{1} \\right)} \\sin{\\left(q_{3} \\right)} - \\sin{\\left(q_{2} \\right)} \\cos{\\left(q_{1} \\right)} \\cos{\\left(q_{3} \\right)} & l_{1} \\cos{\\left(q_{1} \\right)} \\cos{\\left(q_{2} \\right)} + l_{2} \\cos{\\left(q_{1} \\right)} \\cos{\\left(q_{2} \\right)} + q_{4} \\cos{\\left(q_{1} \\right)} \\cos{\\left(q_{2} \\right)}\\\\\\sin{\\left(q_{2} \\right)} & \\sin{\\left(q_{3} \\right)} \\cos{\\left(q_{2} \\right)} & \\cos{\\left(q_{2} \\right)} \\cos{\\left(q_{3} \\right)} & l_{0} + l_{1} \\sin{\\left(q_{2} \\right)} + l_{2} \\sin{\\left(q_{2} \\right)} + q_{4} \\sin{\\left(q_{2} \\right)}\\\\0 & 0 & 0 & 1\\end{matrix}\\right]$"
      ],
      "text/plain": [
       "Matrix([\n",
       "[-sin(q1)*cos(q2),  sin(q1)*sin(q2)*sin(q3) - cos(q1)*cos(q3), sin(q1)*sin(q2)*cos(q3) + sin(q3)*cos(q1), -l1*sin(q1)*cos(q2) - l2*sin(q1)*cos(q2) - q4*sin(q1)*cos(q2)],\n",
       "[ cos(q1)*cos(q2), -sin(q1)*cos(q3) - sin(q2)*sin(q3)*cos(q1), sin(q1)*sin(q3) - sin(q2)*cos(q1)*cos(q3),  l1*cos(q1)*cos(q2) + l2*cos(q1)*cos(q2) + q4*cos(q1)*cos(q2)],\n",
       "[         sin(q2),                            sin(q3)*cos(q2),                           cos(q2)*cos(q3),                     l0 + l1*sin(q2) + l2*sin(q2) + q4*sin(q2)],\n",
       "[               0,                                          0,                                         0,                                                             1]])"
      ]
     },
     "execution_count": 74,
     "metadata": {},
     "output_type": "execute_result"
    }
   ],
   "source": [
    "Hiden = sp.eye(4)\n",
    "q = [sp.Symbol('q1'), sp.Symbol('q2'), sp.Symbol('q3'), sp.Symbol('q4')]\n",
    "for i in range(DH.shape[0]):\n",
    "    Tx = transX(DH[i, 0])\n",
    "    Rx = rotX(DH[i, 1])\n",
    "    Tz = transZ(DH[i, 2])\n",
    "    Rz = rotZ(DH[i, 3])\n",
    "    if jointType[i]:\n",
    "        Hj = rotZ(q[i])\n",
    "    else:\n",
    "        Hj = transZ(q[i])\n",
    "        \n",
    "    Hiden = Hiden * Tx * Rx * Tz * Rz * Hj\n",
    "    \n",
    "H0e = Hiden * Hne\n",
    "H0e"
   ]
  },
  {
   "cell_type": "code",
   "execution_count": 75,
   "metadata": {},
   "outputs": [
    {
     "data": {
      "text/latex": [
       "$\\displaystyle \\mathbf{R} = \\left[\\begin{matrix}- \\sin{\\left(q_{1} \\right)} \\cos{\\left(q_{2} \\right)} & \\sin{\\left(q_{1} \\right)} \\sin{\\left(q_{2} \\right)} \\sin{\\left(q_{3} \\right)} - \\cos{\\left(q_{1} \\right)} \\cos{\\left(q_{3} \\right)} & \\sin{\\left(q_{1} \\right)} \\sin{\\left(q_{2} \\right)} \\cos{\\left(q_{3} \\right)} + \\sin{\\left(q_{3} \\right)} \\cos{\\left(q_{1} \\right)}\\\\\\cos{\\left(q_{1} \\right)} \\cos{\\left(q_{2} \\right)} & - \\sin{\\left(q_{1} \\right)} \\cos{\\left(q_{3} \\right)} - \\sin{\\left(q_{2} \\right)} \\sin{\\left(q_{3} \\right)} \\cos{\\left(q_{1} \\right)} & \\sin{\\left(q_{1} \\right)} \\sin{\\left(q_{3} \\right)} - \\sin{\\left(q_{2} \\right)} \\cos{\\left(q_{1} \\right)} \\cos{\\left(q_{3} \\right)}\\\\\\sin{\\left(q_{2} \\right)} & \\sin{\\left(q_{3} \\right)} \\cos{\\left(q_{2} \\right)} & \\cos{\\left(q_{2} \\right)} \\cos{\\left(q_{3} \\right)}\\end{matrix}\\right]$"
      ],
      "text/plain": [
       "<IPython.core.display.Math object>"
      ]
     },
     "metadata": {},
     "output_type": "display_data"
    },
    {
     "data": {
      "text/latex": [
       "$\\displaystyle \\mathbf{P} = \\left[\\begin{matrix}\\left(- l_{1} - l_{2} - q_{4}\\right) \\sin{\\left(q_{1} \\right)} \\cos{\\left(q_{2} \\right)}\\\\\\left(l_{1} + l_{2} + q_{4}\\right) \\cos{\\left(q_{1} \\right)} \\cos{\\left(q_{2} \\right)}\\\\l_{0} + l_{1} \\sin{\\left(q_{2} \\right)} + l_{2} \\sin{\\left(q_{2} \\right)} + q_{4} \\sin{\\left(q_{2} \\right)}\\end{matrix}\\right]$"
      ],
      "text/plain": [
       "<IPython.core.display.Math object>"
      ]
     },
     "metadata": {},
     "output_type": "display_data"
    }
   ],
   "source": [
    "R = sp.simplify(H0e[0:3, 0:3])\n",
    "P = sp.simplify(H0e[0:3, 3])\n",
    "\n",
    "display(Math(r'\\mathbf{R} = ' + sp.latex(R)))\n",
    "display(Math(r'\\mathbf{P} = ' + sp.latex(P)))"
   ]
  },
  {
   "cell_type": "code",
   "execution_count": 55,
   "metadata": {},
   "outputs": [
    {
     "data": {
      "text/plain": [
       "'ImmutableDenseMatrix([[-math.sin(q1)*math.cos(q2), math.sin(q1)*math.sin(q2)*math.sin(q3) - math.cos(q1)*math.cos(q3), math.sin(q1)*math.sin(q2)*math.cos(q3) + math.sin(q3)*math.cos(q1)], [math.cos(q1)*math.cos(q2), -math.sin(q1)*math.cos(q3) - math.sin(q2)*math.sin(q3)*math.cos(q1), math.sin(q1)*math.sin(q3) - math.sin(q2)*math.cos(q1)*math.cos(q3)], [math.sin(q2), math.sin(q3)*math.cos(q2), math.cos(q2)*math.cos(q3)]])'"
      ]
     },
     "execution_count": 55,
     "metadata": {},
     "output_type": "execute_result"
    }
   ],
   "source": [
    "sp.pycode(R)"
   ]
  },
  {
   "cell_type": "code",
   "execution_count": 56,
   "metadata": {},
   "outputs": [
    {
     "data": {
      "text/plain": [
       "'ImmutableDenseMatrix([[(-l1 - l2 - q4)*math.sin(q1)*math.cos(q2)], [(l1 + l2 + q4)*math.cos(q1)*math.cos(q2)], [l0 + l1*math.sin(q2) + l2*math.sin(q2) + q4*math.sin(q2)]])'"
      ]
     },
     "execution_count": 56,
     "metadata": {},
     "output_type": "execute_result"
    }
   ],
   "source": [
    "sp.pycode(P)"
   ]
  },
  {
   "cell_type": "code",
   "execution_count": null,
   "metadata": {},
   "outputs": [],
   "source": [
    "[[-np.sin(q1)*np.cos(q2), np.sin(q1)*np.sin(q2)*np.sin(q3) - np.cos(q1)*np.cos(q3), np.sin(q1)*np.sin(q2)*np.cos(q3) + np.sin(q3)*np.cos(q1)],\n",
    " [np.cos(q1)*np.cos(q2), -np.sin(q1)*np.cos(q3) - np.sin(q2)*np.sin(q3)*np.cos(q1), np.sin(q1)*np.sin(q3) - np.sin(q2)*np.cos(q1)*np.cos(q3)],\n",
    " [np.sin(q2), np.sin(q3)*np.cos(q2), np.cos(q2)*np.cos(q3)]]\n",
    "\n",
    "[[(-l1 - l2 - q4)*np.sin(q1)*np.cos(q2)],\n",
    " [(l1 + l2 + q4)*np.cos(q1)*np.cos(q2)],\n",
    " [l0 + l1*np.sin(q2) + l2*np.sin(q2) + q4*np.sin(q2)]]"
   ]
  },
  {
   "cell_type": "code",
   "execution_count": 66,
   "metadata": {},
   "outputs": [
    {
     "data": {
      "text/plain": [
       "2"
      ]
     },
     "execution_count": 66,
     "metadata": {},
     "output_type": "execute_result"
    }
   ],
   "source": [
    "testArr = np.array([[1],[2],[3]])\n",
    "testArr[1, 0]"
   ]
  },
  {
   "cell_type": "code",
   "execution_count": 70,
   "metadata": {},
   "outputs": [
    {
     "name": "stdout",
     "output_type": "stream",
     "text": [
      "0.5235987755982988 1.0471975511965976 1.5707963267948966 0.5\n"
     ]
    }
   ],
   "source": [
    "degree = np.pi/180.0\n",
    "[q1,q2,q3,q4] = [30.0,60.0,90.0,0.5]\n",
    "[q1, q2, q3] = [i*degree for i in [q1, q2, q3]]\n",
    "\n",
    "print(q1, q2, q3, q4)"
   ]
  },
  {
   "cell_type": "code",
   "execution_count": 72,
   "metadata": {},
   "outputs": [
    {
     "ename": "TypeError",
     "evalue": "data type not understood",
     "output_type": "error",
     "traceback": [
      "\u001b[0;31m---------------------------------------------------------------------------\u001b[0m",
      "\u001b[0;31mTypeError\u001b[0m                                 Traceback (most recent call last)",
      "\u001b[1;32m/home/omzlette/gitRos/LAB2/src/doc/calc.ipynb Cell 11\u001b[0m in \u001b[0;36m<cell line: 2>\u001b[0;34m()\u001b[0m\n\u001b[1;32m      <a href='vscode-notebook-cell:/home/omzlette/gitRos/LAB2/src/doc/calc.ipynb#X13sZmlsZQ%3D%3D?line=0'>1</a>\u001b[0m \u001b[39m# testArr2 = np.array('d', [[1],[2],[3]])\u001b[39;00m\n\u001b[0;32m----> <a href='vscode-notebook-cell:/home/omzlette/gitRos/LAB2/src/doc/calc.ipynb#X13sZmlsZQ%3D%3D?line=1'>2</a>\u001b[0m np\u001b[39m.\u001b[39;49marray(\u001b[39m'\u001b[39;49m\u001b[39md\u001b[39;49m\u001b[39m'\u001b[39;49m, [\u001b[39m30.0\u001b[39;49m, \u001b[39m60.0\u001b[39;49m, \u001b[39m30.0\u001b[39;49m, \u001b[39m0.01\u001b[39;49m])\n",
      "\u001b[0;31mTypeError\u001b[0m: data type not understood"
     ]
    }
   ],
   "source": [
    "# testArr2 = np.array('d', [[1],[2],[3]])"
   ]
  }
 ],
 "metadata": {
  "kernelspec": {
   "display_name": "Python 3.8.10 64-bit",
   "language": "python",
   "name": "python3"
  },
  "language_info": {
   "codemirror_mode": {
    "name": "ipython",
    "version": 3
   },
   "file_extension": ".py",
   "mimetype": "text/x-python",
   "name": "python",
   "nbconvert_exporter": "python",
   "pygments_lexer": "ipython3",
   "version": "3.8.10"
  },
  "orig_nbformat": 4,
  "vscode": {
   "interpreter": {
    "hash": "916dbcbb3f70747c44a77c7bcd40155683ae19c65e1c03b4aa3499c5328201f1"
   }
  }
 },
 "nbformat": 4,
 "nbformat_minor": 2
}
